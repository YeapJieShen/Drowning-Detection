{
 "cells": [
  {
   "cell_type": "markdown",
   "id": "b97d7eab",
   "metadata": {},
   "source": [
    "# Detection with CNNClassifier\n"
   ]
  },
  {
   "cell_type": "code",
   "execution_count": 1,
   "id": "f2f78dc7",
   "metadata": {},
   "outputs": [
    {
     "data": {
      "text/markdown": [
       "\n",
       "**Last Updated**: 2025-04-27 19:20:11\n",
       "\n",
       "**Python Version**: 3.11.12  \n",
       "**OS**: Windows 10.0.26100  \n",
       "**Architecture**: 64bit  \n",
       "**Hostname**: ShenLaptop  \n",
       "**Processor**: Intel64 Family 6 Model 186 Stepping 3, GenuineIntel  \n",
       "**RAM Size**: 15.65 GB  \n",
       "  \n",
       "        "
      ],
      "text/plain": [
       "<IPython.core.display.Markdown object>"
      ]
     },
     "metadata": {},
     "output_type": "display_data"
    }
   ],
   "source": [
    "from dotenv import load_dotenv\n",
    "\n",
    "load_dotenv()\n",
    "\n",
    "import sys\n",
    "import os\n",
    "\n",
    "sys.path.append(os.getenv('SRC_DIR'))\n",
    "\n",
    "from utils.system import display_system_info\n",
    "\n",
    "display_system_info(markdown=True)"
   ]
  },
  {
   "cell_type": "code",
   "execution_count": 2,
   "id": "58fb15d3",
   "metadata": {},
   "outputs": [],
   "source": [
    "from torchvision import transforms\n",
    "import torch\n",
    "import cv2\n",
    "from PIL import Image\n",
    "import numpy as np\n",
    "\n",
    "from classify import TorchClassifier"
   ]
  },
  {
   "cell_type": "code",
   "execution_count": 15,
   "id": "a54e8904",
   "metadata": {},
   "outputs": [],
   "source": [
    "IDX_TO_CLASS = {\n",
    "    0: 'swimming',\n",
    "    1: 'treadwater',\n",
    "    2: 'drowning'\n",
    "}\n",
    "\n",
    "def xywhn_to_xyxy(image, x_n, y_n, w_n, h_n):\n",
    "    # cv2 images in HWC\n",
    "    height, width, _ = image.shape\n",
    "\n",
    "    x1 = int((x_n - w_n / 2) * width)\n",
    "    y1 = int((y_n - h_n / 2) * height)\n",
    "    x2 = int((x_n + w_n / 2) * width)\n",
    "    y2 = int((y_n + h_n / 2) * height)\n",
    "\n",
    "    return x1, y1, x2, y2\n",
    "\n",
    "def cop_save_roi(images_folder, labels_folder, output_folder, idx_to_class):\n",
    "    os.makedirs(output_folder, exist_ok=True)\n",
    "    for class_id, class_name in idx_to_class.items():\n",
    "        os.makedirs(os.path.join(output_folder, class_name), exist_ok=True)\n",
    "        \n",
    "    class_counters = {class_id: 0 for class_id in idx_to_class.keys()}\n",
    "\n",
    "    for image_file in os.listdir(images_folder):\n",
    "        if image_file.endswith('.jpg'):\n",
    "            base_name = os.path.splitext(image_file)[0]\n",
    "            \n",
    "            label_file = os.path.join(labels_folder, f\"{base_name}.txt\")\n",
    "            image_path = os.path.join(images_folder, image_file)\n",
    "            \n",
    "            image = cv2.imread(image_path)\n",
    "            \n",
    "            # Read the label file\n",
    "            with open(label_file, 'r') as file:\n",
    "                lines = file.readlines()\n",
    "            \n",
    "            # Loop through each line in the label file\n",
    "            for line in lines:\n",
    "                values = line.strip().split()\n",
    "                class_id = int(values[0])\n",
    "                x_n, y_n, w_n, h_n = map(float, values[1:])\n",
    "\n",
    "                x1, y1, x2, y2 = xywhn_to_xyxy(image, x_n, y_n, w_n, h_n)\n",
    "\n",
    "                roi = image[y1:y2, x1:x2]\n",
    "\n",
    "                cv2.imwrite(os.path.join(output_folder, idx_to_class[class_id], f\"{str(class_counters[class_id]).zfill(6)}.jpg\"), roi)\n",
    "\n",
    "                class_counters[class_id] += 1"
   ]
  },
  {
   "cell_type": "code",
   "execution_count": null,
   "id": "8135f2bf",
   "metadata": {},
   "outputs": [],
   "source": [
    "for split in ['train', 'val']:\n",
    "    images_folder = os.path.join(os.getenv('RAW_DATA_DIR'), 'images', split)\n",
    "    labels_folder = os.path.join(os.getenv('RAW_DATA_DIR'), 'labels', split)\n",
    "    output_folder = os.path.join(os.getenv('ROI_DATA_DIR'), split)\n",
    "\n",
    "    cop_save_roi(images_folder, labels_folder, output_folder, IDX_TO_CLASS)"
   ]
  },
  {
   "cell_type": "code",
   "execution_count": 4,
   "id": "7733b435",
   "metadata": {},
   "outputs": [
    {
     "name": "stdout",
     "output_type": "stream",
     "text": [
      "New model created: CNNClassifier(\n",
      "  (features): Sequential(\n",
      "    (0): ConvBlock(\n",
      "      (block): Sequential(\n",
      "        (0): Conv2d(3, 32, kernel_size=(3, 3), stride=(1, 1), padding=(1, 1), bias=False)\n",
      "        (1): BatchNorm2d(32, eps=1e-05, momentum=0.1, affine=True, track_running_stats=True)\n",
      "        (2): ReLU(inplace=True)\n",
      "        (3): MaxPool2d(kernel_size=2, stride=2, padding=0, dilation=1, ceil_mode=False)\n",
      "      )\n",
      "    )\n",
      "    (1): ConvBlock(\n",
      "      (block): Sequential(\n",
      "        (0): Conv2d(32, 64, kernel_size=(3, 3), stride=(1, 1), padding=(1, 1), bias=False)\n",
      "        (1): BatchNorm2d(64, eps=1e-05, momentum=0.1, affine=True, track_running_stats=True)\n",
      "        (2): ReLU(inplace=True)\n",
      "        (3): MaxPool2d(kernel_size=2, stride=2, padding=0, dilation=1, ceil_mode=False)\n",
      "      )\n",
      "    )\n",
      "    (2): ConvBlock(\n",
      "      (block): Sequential(\n",
      "        (0): Conv2d(64, 128, kernel_size=(3, 3), stride=(1, 1), padding=(1, 1), bias=False)\n",
      "        (1): BatchNorm2d(128, eps=1e-05, momentum=0.1, affine=True, track_running_stats=True)\n",
      "        (2): ReLU(inplace=True)\n",
      "        (3): MaxPool2d(kernel_size=2, stride=2, padding=0, dilation=1, ceil_mode=False)\n",
      "      )\n",
      "    )\n",
      "    (3): ConvBlock(\n",
      "      (block): Sequential(\n",
      "        (0): Conv2d(128, 256, kernel_size=(3, 3), stride=(1, 1), padding=(1, 1), bias=False)\n",
      "        (1): BatchNorm2d(256, eps=1e-05, momentum=0.1, affine=True, track_running_stats=True)\n",
      "        (2): ReLU(inplace=True)\n",
      "        (3): MaxPool2d(kernel_size=2, stride=2, padding=0, dilation=1, ceil_mode=False)\n",
      "      )\n",
      "    )\n",
      "  )\n",
      "  (classifier): Sequential(\n",
      "    (0): Flatten(start_dim=1, end_dim=-1)\n",
      "    (1): Linear(in_features=16384, out_features=512, bias=True)\n",
      "    (2): ReLU(inplace=True)\n",
      "    (3): Dropout(p=0.5, inplace=False)\n",
      "    (4): Linear(in_features=512, out_features=3, bias=True)\n",
      "  )\n",
      ")\n"
     ]
    }
   ],
   "source": [
    "model_config = {\n",
    "    'num_classes': 3,\n",
    "    'num_blocks': 4,\n",
    "    'first_out_channel': 32,\n",
    "    'out_channel_multiplier': 2,\n",
    "    'kernel_size': 3,\n",
    "    'stride': 1,\n",
    "    'padding': 1,\n",
    "    'input_shape': (3, 128, 128)\n",
    "}\n",
    "\n",
    "model = TorchClassifier(model='CNNClassifier', config=model_config, device='auto', verbose=True)"
   ]
  },
  {
   "cell_type": "code",
   "execution_count": 3,
   "id": "65f39911",
   "metadata": {},
   "outputs": [],
   "source": [
    "class RandomAffineWithInpainting:\n",
    "    def __init__(self, degrees=10, translate=(0.1, 0.1), radius=3):\n",
    "        self.affine = transforms.RandomAffine(degrees=degrees, translate=translate)\n",
    "        self.inpaint_radius = radius\n",
    "\n",
    "    def __call__(self, img):\n",
    "        # Step 1: Apply affine transform (returns PIL image)\n",
    "        img = self.affine(img)\n",
    "\n",
    "        # Step 2: Convert to NumPy array\n",
    "        img_np = np.array(img)\n",
    "\n",
    "        return Image.fromarray(img_np)\n",
    "\n",
    "        # Step 3: Create mask where pixels are black\n",
    "        gray = cv2.cvtColor(img_np, cv2.COLOR_RGB2GRAY)\n",
    "        mask = cv2.inRange(gray, 0, 1)\n",
    "\n",
    "        # Step 4: Inpaint using OpenCV\n",
    "        inpainted_np = cv2.inpaint(img_np, mask, self.inpaint_radius, cv2.INPAINT_TELEA)\n",
    "\n",
    "        # Step 5: Convert back to PIL\n",
    "        img_inpainted = Image.fromarray(inpainted_np)\n",
    "\n",
    "        return img_inpainted\n",
    "    \n",
    "class RGBToHSV:\n",
    "    def __call__(self, img):\n",
    "        # Ensure the image is in PIL format before converting\n",
    "        if isinstance(img, torch.Tensor):\n",
    "            img = transforms.ToPILImage()(img)  # Convert tensor to PIL image\n",
    "        \n",
    "        # Convert the image to HSV using PIL\n",
    "        img_hsv = img.convert(\"HSV\")\n",
    "        \n",
    "        return img_hsv\n",
    "    \n",
    "class VBlurring:\n",
    "    def __call__(self, img):\n",
    "        # Ensure the image is in PIL format before converting\n",
    "        if isinstance(img, torch.Tensor):\n",
    "            img = transforms.ToPILImage()(img)\n",
    "\n",
    "        # apply blurring to the V channel of the HSV image\n",
    "        h, s, v = cv2.split(np.array(img))\n",
    "\n",
    "        v_blurred = cv2.blur(v, (7, 7))  # Apply 3x3 average blur to the V channel\n",
    "\n",
    "        img_hsv_blurred = cv2.merge([h, s, v_blurred])\n",
    "\n",
    "        return Image.fromarray(img_hsv_blurred)\n",
    "\n",
    "aug_transform = transforms.Compose([\n",
    "    transforms.RandomHorizontalFlip(p=1.0),\n",
    "    RandomAffineWithInpainting(degrees=0, translate=(0.2, 0.2))\n",
    "])\n",
    "\n",
    "enhance_transform = transforms.Compose([\n",
    "    transforms.Resize((128, 128)),\n",
    "    RGBToHSV(),\n",
    "    VBlurring(),\n",
    "    # May addd certain non-deterministic augmentations here to improve generalisability\n",
    "    transforms.ToTensor()\n",
    "])\n",
    "\n",
    "val_transform = transforms.Compose([\n",
    "    transforms.Resize((128, 128)),\n",
    "    RGBToHSV(),\n",
    "    transforms.ToTensor()\n",
    "])"
   ]
  },
  {
   "cell_type": "code",
   "execution_count": null,
   "id": "ea60eb0b",
   "metadata": {},
   "outputs": [
    {
     "name": "stdout",
     "output_type": "stream",
     "text": [
      "      Epoch       Loss   Accuracy    Macro(P          R        F1) Weighted(P          R        F1)\n"
     ]
    },
    {
     "name": "stderr",
     "output_type": "stream",
     "text": [
      "       1/15     0.3291      87.08     0.8707     0.8713      0.871     0.8707     0.8713      0.871: 100%|██████████| 552/552 [00:39<00:00, 13.86it/s]\n"
     ]
    },
    {
     "name": "stdout",
     "output_type": "stream",
     "text": [
      "                  Loss\n"
     ]
    },
    {
     "name": "stderr",
     "output_type": "stream",
     "text": [
      "                0.1286: 100%|██████████| 37/37 [00:01<00:00, 24.29it/s]\n"
     ]
    },
    {
     "name": "stdout",
     "output_type": "stream",
     "text": [
      "              precision    recall  f1-score   support\n",
      "\n",
      "    drowning     0.9405    0.8681    0.9029       182\n",
      "    swimming     0.9756    0.9841    0.9798       690\n",
      "  treadwater     0.9113    0.9368    0.9239       285\n",
      "\n",
      "    accuracy                         0.9542      1157\n",
      "   macro avg     0.9424    0.9297    0.9355      1157\n",
      "weighted avg     0.9542    0.9542    0.9539      1157\n",
      "\n",
      "      Epoch       Loss   Accuracy    Macro(P          R        F1) Weighted(P          R        F1)\n"
     ]
    },
    {
     "name": "stderr",
     "output_type": "stream",
     "text": [
      "       2/15     0.1856      93.32     0.9338     0.9338     0.9338     0.9338     0.9338     0.9338: 100%|██████████| 552/552 [00:41<00:00, 13.35it/s]\n"
     ]
    },
    {
     "name": "stdout",
     "output_type": "stream",
     "text": [
      "                  Loss\n"
     ]
    },
    {
     "name": "stderr",
     "output_type": "stream",
     "text": [
      "                0.1044: 100%|██████████| 37/37 [00:01<00:00, 24.72it/s]\n"
     ]
    },
    {
     "name": "stdout",
     "output_type": "stream",
     "text": [
      "              precision    recall  f1-score   support\n",
      "\n",
      "    drowning     0.9286    0.9286    0.9286       182\n",
      "    swimming     0.9716    0.9928    0.9821       690\n",
      "  treadwater     0.9556    0.9053    0.9297       285\n",
      "\n",
      "    accuracy                         0.9611      1157\n",
      "   macro avg     0.9519    0.9422    0.9468      1157\n",
      "weighted avg     0.9609    0.9611    0.9608      1157\n",
      "\n",
      "      Epoch       Loss   Accuracy    Macro(P          R        F1) Weighted(P          R        F1)\n"
     ]
    },
    {
     "name": "stderr",
     "output_type": "stream",
     "text": [
      "       3/15     0.1627      94.27     0.9433     0.9432     0.9432     0.9433     0.9432     0.9432: 100%|██████████| 552/552 [00:41<00:00, 13.31it/s]\n"
     ]
    },
    {
     "name": "stdout",
     "output_type": "stream",
     "text": [
      "                  Loss\n"
     ]
    },
    {
     "name": "stderr",
     "output_type": "stream",
     "text": [
      "                0.1423: 100%|██████████| 37/37 [00:01<00:00, 23.96it/s]\n"
     ]
    },
    {
     "name": "stdout",
     "output_type": "stream",
     "text": [
      "              precision    recall  f1-score   support\n",
      "\n",
      "    drowning     0.9872    0.8462    0.9112       182\n",
      "    swimming     0.9926    0.9667    0.9794       690\n",
      "  treadwater     0.8632    0.9965    0.9251       285\n",
      "\n",
      "    accuracy                         0.9551      1157\n",
      "   macro avg     0.9477    0.9364    0.9386      1157\n",
      "weighted avg     0.9599    0.9551    0.9553      1157\n",
      "\n",
      "      Epoch       Loss   Accuracy    Macro(P          R        F1) Weighted(P          R        F1)\n"
     ]
    },
    {
     "name": "stderr",
     "output_type": "stream",
     "text": [
      "       4/15     0.1515      94.89     0.9494     0.9494     0.9494     0.9494     0.9494     0.9494: 100%|██████████| 552/552 [00:41<00:00, 13.29it/s]\n"
     ]
    },
    {
     "name": "stdout",
     "output_type": "stream",
     "text": [
      "                  Loss\n"
     ]
    },
    {
     "name": "stderr",
     "output_type": "stream",
     "text": [
      "               0.09236: 100%|██████████| 37/37 [00:01<00:00, 24.70it/s]\n"
     ]
    },
    {
     "name": "stdout",
     "output_type": "stream",
     "text": [
      "              precision    recall  f1-score   support\n",
      "\n",
      "    drowning     0.9716    0.9396    0.9553       182\n",
      "    swimming     0.9898    0.9812    0.9854       690\n",
      "  treadwater     0.9327    0.9719    0.9519       285\n",
      "\n",
      "    accuracy                         0.9723      1157\n",
      "   macro avg     0.9647    0.9642    0.9642      1157\n",
      "weighted avg     0.9728    0.9723    0.9724      1157\n",
      "\n",
      "      Epoch       Loss   Accuracy    Macro(P          R        F1) Weighted(P          R        F1)\n"
     ]
    },
    {
     "name": "stderr",
     "output_type": "stream",
     "text": [
      "       5/15     0.1449       94.9     0.9495     0.9495     0.9495     0.9495     0.9495     0.9495: 100%|██████████| 552/552 [00:41<00:00, 13.34it/s]\n"
     ]
    },
    {
     "name": "stdout",
     "output_type": "stream",
     "text": [
      "                  Loss\n"
     ]
    },
    {
     "name": "stderr",
     "output_type": "stream",
     "text": [
      "               0.08165: 100%|██████████| 37/37 [00:01<00:00, 24.21it/s]\n"
     ]
    },
    {
     "name": "stdout",
     "output_type": "stream",
     "text": [
      "              precision    recall  f1-score   support\n",
      "\n",
      "    drowning     0.9451    0.9451    0.9451       182\n",
      "    swimming     0.9956    0.9783    0.9868       690\n",
      "  treadwater     0.9327    0.9719    0.9519       285\n",
      "\n",
      "    accuracy                         0.9715      1157\n",
      "   macro avg     0.9578    0.9651    0.9613      1157\n",
      "weighted avg     0.9721    0.9715    0.9717      1157\n",
      "\n",
      "      Epoch       Loss   Accuracy    Macro(P          R        F1) Weighted(P          R        F1)\n"
     ]
    },
    {
     "name": "stderr",
     "output_type": "stream",
     "text": [
      "       6/15     0.1312      95.46     0.9552     0.9551     0.9552     0.9552     0.9551     0.9552: 100%|██████████| 552/552 [00:41<00:00, 13.31it/s]\n"
     ]
    },
    {
     "name": "stdout",
     "output_type": "stream",
     "text": [
      "                  Loss\n"
     ]
    },
    {
     "name": "stderr",
     "output_type": "stream",
     "text": [
      "               0.07796: 100%|██████████| 37/37 [00:01<00:00, 24.71it/s]\n"
     ]
    },
    {
     "name": "stdout",
     "output_type": "stream",
     "text": [
      "              precision    recall  f1-score   support\n",
      "\n",
      "    drowning     0.9613    0.9560    0.9587       182\n",
      "    swimming     0.9956    0.9783    0.9868       690\n",
      "  treadwater     0.9362    0.9789    0.9571       285\n",
      "\n",
      "    accuracy                         0.9749      1157\n",
      "   macro avg     0.9644    0.9711    0.9675      1157\n",
      "weighted avg     0.9756    0.9749    0.9751      1157\n",
      "\n",
      "      Epoch       Loss   Accuracy    Macro(P          R        F1) Weighted(P          R        F1)\n"
     ]
    },
    {
     "name": "stderr",
     "output_type": "stream",
     "text": [
      "       7/15     0.1205      95.74     0.9579     0.9579     0.9579     0.9579     0.9579     0.9579: 100%|██████████| 552/552 [00:41<00:00, 13.40it/s]\n"
     ]
    },
    {
     "name": "stdout",
     "output_type": "stream",
     "text": [
      "                  Loss\n"
     ]
    },
    {
     "name": "stderr",
     "output_type": "stream",
     "text": [
      "               0.08934: 100%|██████████| 37/37 [00:01<00:00, 24.55it/s]\n"
     ]
    },
    {
     "name": "stdout",
     "output_type": "stream",
     "text": [
      "              precision    recall  f1-score   support\n",
      "\n",
      "    drowning     0.9556    0.9451    0.9503       182\n",
      "    swimming     0.9912    0.9812    0.9862       690\n",
      "  treadwater     0.9422    0.9719    0.9568       285\n",
      "\n",
      "    accuracy                         0.9732      1157\n",
      "   macro avg     0.9630    0.9660    0.9644      1157\n",
      "weighted avg     0.9735    0.9732    0.9733      1157\n",
      "\n",
      "      Epoch       Loss   Accuracy    Macro(P          R        F1) Weighted(P          R        F1)\n"
     ]
    },
    {
     "name": "stderr",
     "output_type": "stream",
     "text": [
      "       8/15    0.09823      96.64      0.967      0.967      0.967      0.967      0.967      0.967: 100%|██████████| 552/552 [00:41<00:00, 13.39it/s]\n"
     ]
    },
    {
     "name": "stdout",
     "output_type": "stream",
     "text": [
      "                  Loss\n"
     ]
    },
    {
     "name": "stderr",
     "output_type": "stream",
     "text": [
      "               0.07537: 100%|██████████| 37/37 [00:01<00:00, 24.57it/s]\n"
     ]
    },
    {
     "name": "stdout",
     "output_type": "stream",
     "text": [
      "              precision    recall  f1-score   support\n",
      "\n",
      "    drowning     0.9771    0.9396    0.9580       182\n",
      "    swimming     0.9898    0.9870    0.9884       690\n",
      "  treadwater     0.9490    0.9789    0.9637       285\n",
      "\n",
      "    accuracy                         0.9775      1157\n",
      "   macro avg     0.9720    0.9685    0.9700      1157\n",
      "weighted avg     0.9778    0.9775    0.9775      1157\n",
      "\n",
      "      Epoch       Loss   Accuracy    Macro(P          R        F1) Weighted(P          R        F1)\n"
     ]
    },
    {
     "name": "stderr",
     "output_type": "stream",
     "text": [
      "       9/15    0.08791      96.98     0.9704     0.9704     0.9704     0.9704     0.9704     0.9704: 100%|██████████| 552/552 [00:41<00:00, 13.35it/s]\n"
     ]
    },
    {
     "name": "stdout",
     "output_type": "stream",
     "text": [
      "                  Loss\n"
     ]
    },
    {
     "name": "stderr",
     "output_type": "stream",
     "text": [
      "               0.07872: 100%|██████████| 37/37 [00:01<00:00, 24.61it/s]\n"
     ]
    },
    {
     "name": "stdout",
     "output_type": "stream",
     "text": [
      "              precision    recall  f1-score   support\n",
      "\n",
      "    drowning     0.9770    0.9341    0.9551       182\n",
      "    swimming     0.9927    0.9855    0.9891       690\n",
      "  treadwater     0.9396    0.9825    0.9605       285\n",
      "\n",
      "    accuracy                         0.9767      1157\n",
      "   macro avg     0.9698    0.9673    0.9682      1157\n",
      "weighted avg     0.9772    0.9767    0.9767      1157\n",
      "\n",
      "      Epoch       Loss   Accuracy    Macro(P          R        F1) Weighted(P          R        F1)\n"
     ]
    },
    {
     "name": "stderr",
     "output_type": "stream",
     "text": [
      "      10/15    0.08549      97.09     0.9715     0.9715     0.9715     0.9715     0.9715     0.9715: 100%|██████████| 552/552 [00:41<00:00, 13.29it/s]\n"
     ]
    },
    {
     "name": "stdout",
     "output_type": "stream",
     "text": [
      "                  Loss\n"
     ]
    },
    {
     "name": "stderr",
     "output_type": "stream",
     "text": [
      "               0.07674: 100%|██████████| 37/37 [00:01<00:00, 24.20it/s]\n"
     ]
    },
    {
     "name": "stdout",
     "output_type": "stream",
     "text": [
      "              precision    recall  f1-score   support\n",
      "\n",
      "    drowning     0.9771    0.9396    0.9580       182\n",
      "    swimming     0.9884    0.9884    0.9884       690\n",
      "  treadwater     0.9555    0.9789    0.9671       285\n",
      "\n",
      "    accuracy                         0.9784      1157\n",
      "   macro avg     0.9737    0.9690    0.9712      1157\n",
      "weighted avg     0.9785    0.9784    0.9784      1157\n",
      "\n",
      "      Epoch       Loss   Accuracy    Macro(P          R        F1) Weighted(P          R        F1)\n"
     ]
    },
    {
     "name": "stderr",
     "output_type": "stream",
     "text": [
      "      11/15    0.08148      97.14      0.972      0.972      0.972      0.972      0.972      0.972: 100%|██████████| 552/552 [00:41<00:00, 13.27it/s]\n"
     ]
    },
    {
     "name": "stdout",
     "output_type": "stream",
     "text": [
      "                  Loss\n"
     ]
    },
    {
     "name": "stderr",
     "output_type": "stream",
     "text": [
      "               0.08303: 100%|██████████| 37/37 [00:01<00:00, 24.16it/s]\n"
     ]
    },
    {
     "name": "stdout",
     "output_type": "stream",
     "text": [
      "              precision    recall  f1-score   support\n",
      "\n",
      "    drowning     0.9821    0.9066    0.9429       182\n",
      "    swimming     0.9856    0.9913    0.9884       690\n",
      "  treadwater     0.9458    0.9789    0.9621       285\n",
      "\n",
      "    accuracy                         0.9749      1157\n",
      "   macro avg     0.9712    0.9589    0.9645      1157\n",
      "weighted avg     0.9752    0.9749    0.9748      1157\n",
      "\n",
      "      Epoch       Loss   Accuracy    Macro(P          R        F1) Weighted(P          R        F1)\n"
     ]
    },
    {
     "name": "stderr",
     "output_type": "stream",
     "text": [
      "      12/15    0.08353      97.04      0.971      0.971      0.971      0.971      0.971      0.971: 100%|██████████| 552/552 [00:41<00:00, 13.24it/s]\n"
     ]
    },
    {
     "name": "stdout",
     "output_type": "stream",
     "text": [
      "                  Loss\n"
     ]
    },
    {
     "name": "stderr",
     "output_type": "stream",
     "text": [
      "               0.08593: 100%|██████████| 37/37 [00:01<00:00, 24.04it/s]\n"
     ]
    },
    {
     "name": "stdout",
     "output_type": "stream",
     "text": [
      "              precision    recall  f1-score   support\n",
      "\n",
      "    drowning     0.9714    0.9341    0.9524       182\n",
      "    swimming     0.9927    0.9841    0.9884       690\n",
      "  treadwater     0.9396    0.9825    0.9605       285\n",
      "\n",
      "    accuracy                         0.9758      1157\n",
      "   macro avg     0.9679    0.9669    0.9671      1157\n",
      "weighted avg     0.9763    0.9758    0.9758      1157\n",
      "\n",
      "      Epoch       Loss   Accuracy    Macro(P          R        F1) Weighted(P          R        F1)\n"
     ]
    },
    {
     "name": "stderr",
     "output_type": "stream",
     "text": [
      "      13/15    0.08039      97.13     0.9719     0.9719     0.9719     0.9719     0.9719     0.9719: 100%|██████████| 552/552 [00:41<00:00, 13.24it/s]\n"
     ]
    },
    {
     "name": "stdout",
     "output_type": "stream",
     "text": [
      "                  Loss\n"
     ]
    },
    {
     "name": "stderr",
     "output_type": "stream",
     "text": [
      "               0.08375: 100%|██████████| 37/37 [00:01<00:00, 23.56it/s]\n"
     ]
    },
    {
     "name": "stdout",
     "output_type": "stream",
     "text": [
      "              precision    recall  f1-score   support\n",
      "\n",
      "    drowning     0.9770    0.9341    0.9551       182\n",
      "    swimming     0.9898    0.9855    0.9877       690\n",
      "  treadwater     0.9426    0.9789    0.9604       285\n",
      "\n",
      "    accuracy                         0.9758      1157\n",
      "   macro avg     0.9698    0.9662    0.9677      1157\n",
      "weighted avg     0.9762    0.9758    0.9758      1157\n",
      "\n",
      "      Epoch       Loss   Accuracy    Macro(P          R        F1) Weighted(P          R        F1)\n"
     ]
    },
    {
     "name": "stderr",
     "output_type": "stream",
     "text": [
      "      14/15     0.0783      97.22     0.9727     0.9727     0.9727     0.9727     0.9727     0.9727: 100%|██████████| 552/552 [00:41<00:00, 13.29it/s]\n"
     ]
    },
    {
     "name": "stdout",
     "output_type": "stream",
     "text": [
      "                  Loss\n"
     ]
    },
    {
     "name": "stderr",
     "output_type": "stream",
     "text": [
      "               0.08205: 100%|██████████| 37/37 [00:01<00:00, 24.32it/s]\n"
     ]
    },
    {
     "name": "stdout",
     "output_type": "stream",
     "text": [
      "              precision    recall  f1-score   support\n",
      "\n",
      "    drowning     0.9770    0.9341    0.9551       182\n",
      "    swimming     0.9913    0.9855    0.9884       690\n",
      "  treadwater     0.9428    0.9825    0.9622       285\n",
      "\n",
      "    accuracy                         0.9767      1157\n",
      "   macro avg     0.9703    0.9673    0.9685      1157\n",
      "weighted avg     0.9771    0.9767    0.9767      1157\n",
      "\n",
      "      Epoch       Loss   Accuracy    Macro(P          R        F1) Weighted(P          R        F1)\n"
     ]
    },
    {
     "name": "stderr",
     "output_type": "stream",
     "text": [
      "      15/15    0.07553      97.29     0.9734     0.9734     0.9734     0.9734     0.9734     0.9734: 100%|██████████| 552/552 [00:41<00:00, 13.32it/s]\n"
     ]
    },
    {
     "name": "stdout",
     "output_type": "stream",
     "text": [
      "                  Loss\n"
     ]
    },
    {
     "name": "stderr",
     "output_type": "stream",
     "text": [
      "                0.0798: 100%|██████████| 37/37 [00:01<00:00, 24.53it/s]"
     ]
    },
    {
     "name": "stdout",
     "output_type": "stream",
     "text": [
      "              precision    recall  f1-score   support\n",
      "\n",
      "    drowning     0.9774    0.9505    0.9638       182\n",
      "    swimming     0.9913    0.9870    0.9891       690\n",
      "  treadwater     0.9556    0.9825    0.9689       285\n",
      "\n",
      "    accuracy                         0.9801      1157\n",
      "   macro avg     0.9748    0.9733    0.9739      1157\n",
      "weighted avg     0.9803    0.9801    0.9801      1157\n",
      "\n"
     ]
    },
    {
     "name": "stderr",
     "output_type": "stream",
     "text": [
      "\n"
     ]
    }
   ],
   "source": [
    "results = model.train(\n",
    "    data_path=os.getenv('ROI_DATA_DIR'),\n",
    "    imbalance=True,\n",
    "    fraction=1,\n",
    "    val_test_ratio=0.5,\n",
    "    input_size=128,\n",
    "    optimizer='Adam',\n",
    "    lr=1e-4,\n",
    "    aug_transform=aug_transform,\n",
    "    enhance_transform=enhance_transform,\n",
    "    val_transform=val_transform,\n",
    "    batch_size=32,\n",
    "    epochs=15\n",
    ") "
   ]
  },
  {
   "cell_type": "code",
   "execution_count": 6,
   "id": "21f47d4e",
   "metadata": {},
   "outputs": [
    {
     "data": {
      "text/plain": [
       "([{'loss': 0.3291142154754936,\n",
       "   'accuracy': 87.08342779415099,\n",
       "   'macro_f1': 0.870964555944839,\n",
       "   'weighted_f1': 0.8709645559448391,\n",
       "   'macro_precision': 0.8707308151546386,\n",
       "   'weighted_precision': 0.8707308151546386,\n",
       "   'macro_recall': 0.8713281161392764,\n",
       "   'weighted_recall': 0.8713281161392764},\n",
       "  {'loss': 0.18564937731075654,\n",
       "   'accuracy': 93.32350940829744,\n",
       "   'macro_f1': 0.9337688310940582,\n",
       "   'weighted_f1': 0.9337688310940583,\n",
       "   'macro_precision': 0.9337750740331048,\n",
       "   'weighted_precision': 0.9337750740331048,\n",
       "   'macro_recall': 0.9337643189293411,\n",
       "   'weighted_recall': 0.9337643189293411},\n",
       "  {'loss': 0.16269371990178563,\n",
       "   'accuracy': 94.27000680117887,\n",
       "   'macro_f1': 0.9432435492403695,\n",
       "   'weighted_f1': 0.9432435492403695,\n",
       "   'macro_precision': 0.9432749495171722,\n",
       "   'weighted_precision': 0.9432749495171721,\n",
       "   'macro_recall': 0.9432346603153,\n",
       "   'weighted_recall': 0.9432346603153},\n",
       "  {'loss': 0.1514506953569345,\n",
       "   'accuracy': 94.88778054862843,\n",
       "   'macro_f1': 0.9494145103295922,\n",
       "   'weighted_f1': 0.9494145103295923,\n",
       "   'macro_precision': 0.9494295617549403,\n",
       "   'weighted_precision': 0.9494295617549403,\n",
       "   'macro_recall': 0.9494159011001475,\n",
       "   'weighted_recall': 0.9494159011001474},\n",
       "  {'loss': 0.14487159188117232,\n",
       "   'accuracy': 94.89911584674677,\n",
       "   'macro_f1': 0.9495183568031038,\n",
       "   'weighted_f1': 0.9495183568031039,\n",
       "   'macro_precision': 0.9495127682907724,\n",
       "   'weighted_precision': 0.9495127682907724,\n",
       "   'macro_recall': 0.9495293183622548,\n",
       "   'weighted_recall': 0.9495293183622547},\n",
       "  {'loss': 0.1312461367925884,\n",
       "   'accuracy': 95.46021310360463,\n",
       "   'macro_f1': 0.9551617983999924,\n",
       "   'weighted_f1': 0.9551617983999925,\n",
       "   'macro_precision': 0.955210215344502,\n",
       "   'weighted_precision': 0.9552102153445019,\n",
       "   'macro_recall': 0.9551434728365656,\n",
       "   'weighted_recall': 0.9551434728365658},\n",
       "  {'loss': 0.12052156108235805,\n",
       "   'accuracy': 95.73792790750397,\n",
       "   'macro_f1': 0.9579200509375552,\n",
       "   'weighted_f1': 0.9579200509375551,\n",
       "   'macro_precision': 0.9579187593728031,\n",
       "   'weighted_precision': 0.957918759372803,\n",
       "   'macro_recall': 0.9579221957581944,\n",
       "   'weighted_recall': 0.9579221957581944},\n",
       "  {'loss': 0.09823195635386661,\n",
       "   'accuracy': 96.6447517569712,\n",
       "   'macro_f1': 0.9670074016836522,\n",
       "   'weighted_f1': 0.9670074016836523,\n",
       "   'macro_precision': 0.9670289122702721,\n",
       "   'weighted_precision': 0.9670289122702721,\n",
       "   'macro_recall': 0.9669955767267778,\n",
       "   'weighted_recall': 0.9669955767267778},\n",
       "  {'loss': 0.08790835137251238,\n",
       "   'accuracy': 96.98481070052142,\n",
       "   'macro_f1': 0.9704069048492941,\n",
       "   'weighted_f1': 0.9704069048492943,\n",
       "   'macro_precision': 0.9704209996965615,\n",
       "   'weighted_precision': 0.9704209996965615,\n",
       "   'macro_recall': 0.9703980945899966,\n",
       "   'weighted_recall': 0.9703980945899966},\n",
       "  {'loss': 0.0854887183172716,\n",
       "   'accuracy': 97.09249603264566,\n",
       "   'macro_f1': 0.9714951526047058,\n",
       "   'weighted_f1': 0.9714951526047058,\n",
       "   'macro_precision': 0.971538326452556,\n",
       "   'weighted_precision': 0.9715383264525561,\n",
       "   'macro_recall': 0.9714755585800159,\n",
       "   'weighted_recall': 0.9714755585800159},\n",
       "  {'loss': 0.08148228856431239,\n",
       "   'accuracy': 97.14350487417819,\n",
       "   'macro_f1': 0.9719916013356387,\n",
       "   'weighted_f1': 0.9719916013356387,\n",
       "   'macro_precision': 0.972004058968623,\n",
       "   'weighted_precision': 0.9720040589686231,\n",
       "   'macro_recall': 0.9719859362594988,\n",
       "   'weighted_recall': 0.9719859362594987},\n",
       "  {'loss': 0.08353295702023467,\n",
       "   'accuracy': 97.04148719111312,\n",
       "   'macro_f1': 0.9709814413864581,\n",
       "   'weighted_f1': 0.970981441386458,\n",
       "   'macro_precision': 0.9710218648731729,\n",
       "   'weighted_precision': 0.9710218648731729,\n",
       "   'macro_recall': 0.970965180900533,\n",
       "   'weighted_recall': 0.9709651809005331},\n",
       "  {'loss': 0.08039033799782308,\n",
       "   'accuracy': 97.13216957605985,\n",
       "   'macro_f1': 0.9718805632071681,\n",
       "   'weighted_f1': 0.9718805632071681,\n",
       "   'macro_precision': 0.9718994371504559,\n",
       "   'weighted_precision': 0.9718994371504559,\n",
       "   'macro_recall': 0.9718725189973915,\n",
       "   'weighted_recall': 0.9718725189973914},\n",
       "  {'loss': 0.07830264244019391,\n",
       "   'accuracy': 97.2171843119474,\n",
       "   'macro_f1': 0.9727300670985466,\n",
       "   'weighted_f1': 0.9727300670985467,\n",
       "   'macro_precision': 0.9727480944686441,\n",
       "   'weighted_precision': 0.9727480944686441,\n",
       "   'macro_recall': 0.9727231484631961,\n",
       "   'weighted_recall': 0.9727231484631961},\n",
       "  {'loss': 0.07553324277640955,\n",
       "   'accuracy': 97.28519610065744,\n",
       "   'macro_f1': 0.9734131232235216,\n",
       "   'weighted_f1': 0.9734131232235216,\n",
       "   'macro_precision': 0.9734310166188599,\n",
       "   'weighted_precision': 0.97343101661886,\n",
       "   'macro_recall': 0.9734036520358398,\n",
       "   'weighted_recall': 0.9734036520358399}],\n",
       " [{'loss': 0.1286399646605541,\n",
       "   'drowning': {'precision': 0.9404761904761905,\n",
       "    'recall': 0.8681318681318682,\n",
       "    'f1-score': 0.9028571428571428,\n",
       "    'support': 182.0},\n",
       "   'swimming': {'precision': 0.9755747126436781,\n",
       "    'recall': 0.9840579710144928,\n",
       "    'f1-score': 0.9797979797979798,\n",
       "    'support': 690.0},\n",
       "   'treadwater': {'precision': 0.9112627986348123,\n",
       "    'recall': 0.9368421052631579,\n",
       "    'f1-score': 0.9238754325259516,\n",
       "    'support': 285.0},\n",
       "   'accuracy': 0.9541918755401901,\n",
       "   'macro avg': {'precision': 0.9424379005848936,\n",
       "    'recall': 0.9296773148031731,\n",
       "    'f1-score': 0.9355101850603581,\n",
       "    'support': 1157.0},\n",
       "   'weighted avg': {'precision': 0.9542118547983803,\n",
       "    'recall': 0.9541918755401901,\n",
       "    'f1-score': 0.9539197098794314,\n",
       "    'support': 1157.0}},\n",
       "  {'loss': 0.10435571805627095,\n",
       "   'drowning': {'precision': 0.9285714285714286,\n",
       "    'recall': 0.9285714285714286,\n",
       "    'f1-score': 0.9285714285714286,\n",
       "    'support': 182.0},\n",
       "   'swimming': {'precision': 0.9716312056737588,\n",
       "    'recall': 0.9927536231884058,\n",
       "    'f1-score': 0.982078853046595,\n",
       "    'support': 690.0},\n",
       "   'treadwater': {'precision': 0.9555555555555556,\n",
       "    'recall': 0.9052631578947369,\n",
       "    'f1-score': 0.9297297297297298,\n",
       "    'support': 285.0},\n",
       "   'accuracy': 0.9611063094209161,\n",
       "   'macro avg': {'precision': 0.9519193966002476,\n",
       "    'recall': 0.942196069884857,\n",
       "    'f1-score': 0.9467933371159178,\n",
       "    'support': 1157.0},\n",
       "   'weighted avg': {'precision': 0.9608978956337311,\n",
       "    'recall': 0.9611063094209161,\n",
       "    'f1-score': 0.9607669676535208,\n",
       "    'support': 1157.0}},\n",
       "  {'loss': 0.14226710747272983,\n",
       "   'drowning': {'precision': 0.9871794871794872,\n",
       "    'recall': 0.8461538461538461,\n",
       "    'f1-score': 0.9112426035502958,\n",
       "    'support': 182.0},\n",
       "   'swimming': {'precision': 0.9925595238095238,\n",
       "    'recall': 0.9666666666666667,\n",
       "    'f1-score': 0.9794419970631424,\n",
       "    'support': 690.0},\n",
       "   'treadwater': {'precision': 0.8632218844984803,\n",
       "    'recall': 0.9964912280701754,\n",
       "    'f1-score': 0.9250814332247557,\n",
       "    'support': 285.0},\n",
       "   'accuracy': 0.9550561797752809,\n",
       "   'macro avg': {'precision': 0.9476536318291636,\n",
       "    'recall': 0.9364372469635628,\n",
       "    'f1-score': 0.9385886779460647,\n",
       "    'support': 1157.0},\n",
       "   'weighted avg': {'precision': 0.9598539111299093,\n",
       "    'recall': 0.9550561797752809,\n",
       "    'f1-score': 0.9553235438969555,\n",
       "    'support': 1157.0}},\n",
       "  {'loss': 0.0923590477291696,\n",
       "   'drowning': {'precision': 0.9715909090909091,\n",
       "    'recall': 0.9395604395604396,\n",
       "    'f1-score': 0.9553072625698324,\n",
       "    'support': 182.0},\n",
       "   'swimming': {'precision': 0.9897660818713451,\n",
       "    'recall': 0.981159420289855,\n",
       "    'f1-score': 0.9854439592430859,\n",
       "    'support': 690.0},\n",
       "   'treadwater': {'precision': 0.9326599326599326,\n",
       "    'recall': 0.9719298245614035,\n",
       "    'f1-score': 0.9518900343642611,\n",
       "    'support': 285.0},\n",
       "   'accuracy': 0.9723422644770959,\n",
       "   'macro avg': {'precision': 0.9646723078740623,\n",
       "    'recall': 0.964216561470566,\n",
       "    'f1-score': 0.9642137520590598,\n",
       "    'support': 1157.0},\n",
       "   'weighted avg': {'precision': 0.9728402962436079,\n",
       "    'recall': 0.9723422644770959,\n",
       "    'f1-score': 0.9724381274496572,\n",
       "    'support': 1157.0}},\n",
       "  {'loss': 0.08164688759810619,\n",
       "   'drowning': {'precision': 0.945054945054945,\n",
       "    'recall': 0.945054945054945,\n",
       "    'f1-score': 0.945054945054945,\n",
       "    'support': 182.0},\n",
       "   'swimming': {'precision': 0.995575221238938,\n",
       "    'recall': 0.9782608695652174,\n",
       "    'f1-score': 0.9868421052631579,\n",
       "    'support': 690.0},\n",
       "   'treadwater': {'precision': 0.9326599326599326,\n",
       "    'recall': 0.9719298245614035,\n",
       "    'f1-score': 0.9518900343642611,\n",
       "    'support': 285.0},\n",
       "   'accuracy': 0.9714779602420052,\n",
       "   'macro avg': {'precision': 0.9577633663179386,\n",
       "    'recall': 0.9650818797271886,\n",
       "    'f1-score': 0.961262361560788,\n",
       "    'support': 1157.0},\n",
       "   'weighted avg': {'precision': 0.9721304956464547,\n",
       "    'recall': 0.9714779602420052,\n",
       "    'f1-score': 0.9716592155794237,\n",
       "    'support': 1157.0}},\n",
       "  {'loss': 0.07795734337933764,\n",
       "   'drowning': {'precision': 0.9613259668508287,\n",
       "    'recall': 0.9560439560439561,\n",
       "    'f1-score': 0.9586776859504132,\n",
       "    'support': 182.0},\n",
       "   'swimming': {'precision': 0.995575221238938,\n",
       "    'recall': 0.9782608695652174,\n",
       "    'f1-score': 0.9868421052631579,\n",
       "    'support': 690.0},\n",
       "   'treadwater': {'precision': 0.9362416107382551,\n",
       "    'recall': 0.9789473684210527,\n",
       "    'f1-score': 0.9571183533447685,\n",
       "    'support': 285.0},\n",
       "   'accuracy': 0.9749351771823682,\n",
       "   'macro avg': {'precision': 0.9643809329426739,\n",
       "    'recall': 0.971084064676742,\n",
       "    'f1-score': 0.9675460481861132,\n",
       "    'support': 1157.0},\n",
       "   'weighted avg': {'precision': 0.9755722451876584,\n",
       "    'recall': 0.9749351771823682,\n",
       "    'f1-score': 0.9750899932392508,\n",
       "    'support': 1157.0}},\n",
       "  {'loss': 0.08933679725836359,\n",
       "   'drowning': {'precision': 0.9555555555555556,\n",
       "    'recall': 0.945054945054945,\n",
       "    'f1-score': 0.9502762430939227,\n",
       "    'support': 182.0},\n",
       "   'swimming': {'precision': 0.9912152269399708,\n",
       "    'recall': 0.981159420289855,\n",
       "    'f1-score': 0.9861616897305171,\n",
       "    'support': 690.0},\n",
       "   'treadwater': {'precision': 0.9421768707482994,\n",
       "    'recall': 0.9719298245614035,\n",
       "    'f1-score': 0.9568221070811744,\n",
       "    'support': 285.0},\n",
       "   'accuracy': 0.9732065687121867,\n",
       "   'macro avg': {'precision': 0.9629825510812754,\n",
       "    'recall': 0.9660480633020678,\n",
       "    'f1-score': 0.9644200133018713,\n",
       "    'support': 1157.0},\n",
       "   'weighted avg': {'precision': 0.9735263836326329,\n",
       "    'recall': 0.9732065687121867,\n",
       "    'f1-score': 0.9732896652336088,\n",
       "    'support': 1157.0}},\n",
       "  {'loss': 0.07537074429470718,\n",
       "   'drowning': {'precision': 0.9771428571428571,\n",
       "    'recall': 0.9395604395604396,\n",
       "    'f1-score': 0.957983193277311,\n",
       "    'support': 182.0},\n",
       "   'swimming': {'precision': 0.9898255813953488,\n",
       "    'recall': 0.9869565217391304,\n",
       "    'f1-score': 0.988388969521045,\n",
       "    'support': 690.0},\n",
       "   'treadwater': {'precision': 0.9489795918367347,\n",
       "    'recall': 0.9789473684210527,\n",
       "    'f1-score': 0.9637305699481865,\n",
       "    'support': 285.0},\n",
       "   'accuracy': 0.9775280898876404,\n",
       "   'macro avg': {'precision': 0.9719826767916468,\n",
       "    'recall': 0.9684881099068742,\n",
       "    'f1-score': 0.9700342442488474,\n",
       "    'support': 1157.0},\n",
       "   'weighted avg': {'precision': 0.977769088017511,\n",
       "    'recall': 0.9775280898876404,\n",
       "    'f1-score': 0.9775320160598314,\n",
       "    'support': 1157.0}},\n",
       "  {'loss': 0.07871994905714952,\n",
       "   'drowning': {'precision': 0.9770114942528736,\n",
       "    'recall': 0.9340659340659341,\n",
       "    'f1-score': 0.9550561797752809,\n",
       "    'support': 182.0},\n",
       "   'swimming': {'precision': 0.9927007299270073,\n",
       "    'recall': 0.9855072463768116,\n",
       "    'f1-score': 0.9890909090909091,\n",
       "    'support': 690.0},\n",
       "   'treadwater': {'precision': 0.9395973154362416,\n",
       "    'recall': 0.9824561403508771,\n",
       "    'f1-score': 0.9605488850771869,\n",
       "    'support': 285.0},\n",
       "   'accuracy': 0.9766637856525497,\n",
       "   'macro avg': {'precision': 0.9697698465387075,\n",
       "    'recall': 0.9673431069312076,\n",
       "    'f1-score': 0.9682319913144589,\n",
       "    'support': 1157.0},\n",
       "   'weighted avg': {'precision': 0.9771519710483898,\n",
       "    'recall': 0.9766637856525497,\n",
       "    'f1-score': 0.9767064686593143,\n",
       "    'support': 1157.0}},\n",
       "  {'loss': 0.076736947265139,\n",
       "   'drowning': {'precision': 0.9771428571428571,\n",
       "    'recall': 0.9395604395604396,\n",
       "    'f1-score': 0.957983193277311,\n",
       "    'support': 182.0},\n",
       "   'swimming': {'precision': 0.9884057971014493,\n",
       "    'recall': 0.9884057971014493,\n",
       "    'f1-score': 0.9884057971014493,\n",
       "    'support': 690.0},\n",
       "   'treadwater': {'precision': 0.9554794520547946,\n",
       "    'recall': 0.9789473684210527,\n",
       "    'f1-score': 0.9670710571923743,\n",
       "    'support': 285.0},\n",
       "   'accuracy': 0.9783923941227312,\n",
       "   'macro avg': {'precision': 0.9736760354330336,\n",
       "    'recall': 0.9689712016943138,\n",
       "    'f1-score': 0.9711533491903781,\n",
       "    'support': 1157.0},\n",
       "   'weighted avg': {'precision': 0.9785234605320801,\n",
       "    'recall': 0.9783923941227312,\n",
       "    'f1-score': 0.9783649027452871,\n",
       "    'support': 1157.0}},\n",
       "  {'loss': 0.08303071761356723,\n",
       "   'drowning': {'precision': 0.9821428571428571,\n",
       "    'recall': 0.9065934065934066,\n",
       "    'f1-score': 0.9428571428571428,\n",
       "    'support': 182.0},\n",
       "   'swimming': {'precision': 0.9855907780979827,\n",
       "    'recall': 0.991304347826087,\n",
       "    'f1-score': 0.9884393063583815,\n",
       "    'support': 690.0},\n",
       "   'treadwater': {'precision': 0.9457627118644067,\n",
       "    'recall': 0.9789473684210527,\n",
       "    'f1-score': 0.9620689655172414,\n",
       "    'support': 285.0},\n",
       "   'accuracy': 0.9749351771823682,\n",
       "   'macro avg': {'precision': 0.9711654490350822,\n",
       "    'recall': 0.958948374280182,\n",
       "    'f1-score': 0.9644551382442552,\n",
       "    'support': 1157.0},\n",
       "   'weighted avg': {'precision': 0.9752376921080068,\n",
       "    'recall': 0.9749351771823682,\n",
       "    'f1-score': 0.9747733591700062,\n",
       "    'support': 1157.0}},\n",
       "  {'loss': 0.08592936164869398,\n",
       "   'drowning': {'precision': 0.9714285714285714,\n",
       "    'recall': 0.9340659340659341,\n",
       "    'f1-score': 0.9523809523809523,\n",
       "    'support': 182.0},\n",
       "   'swimming': {'precision': 0.9926900584795322,\n",
       "    'recall': 0.9840579710144928,\n",
       "    'f1-score': 0.9883551673944687,\n",
       "    'support': 690.0},\n",
       "   'treadwater': {'precision': 0.9395973154362416,\n",
       "    'recall': 0.9824561403508771,\n",
       "    'f1-score': 0.9605488850771869,\n",
       "    'support': 285.0},\n",
       "   'accuracy': 0.975799481417459,\n",
       "   'macro avg': {'precision': 0.9679053151147817,\n",
       "    'recall': 0.966860015143768,\n",
       "    'f1-score': 0.9670950016175359,\n",
       "    'support': 1157.0},\n",
       "   'weighted avg': {'precision': 0.9762673943389852,\n",
       "    'recall': 0.975799481417459,\n",
       "    'f1-score': 0.9758468721542912,\n",
       "    'support': 1157.0}},\n",
       "  {'loss': 0.0837469201958172,\n",
       "   'drowning': {'precision': 0.9770114942528736,\n",
       "    'recall': 0.9340659340659341,\n",
       "    'f1-score': 0.9550561797752809,\n",
       "    'support': 182.0},\n",
       "   'swimming': {'precision': 0.9898107714701602,\n",
       "    'recall': 0.9855072463768116,\n",
       "    'f1-score': 0.9876543209876543,\n",
       "    'support': 690.0},\n",
       "   'treadwater': {'precision': 0.9425675675675675,\n",
       "    'recall': 0.9789473684210527,\n",
       "    'f1-score': 0.9604130808950087,\n",
       "    'support': 285.0},\n",
       "   'accuracy': 0.975799481417459,\n",
       "   'macro avg': {'precision': 0.9697966110968671,\n",
       "    'recall': 0.9661735162879328,\n",
       "    'f1-score': 0.967707860552648,\n",
       "    'support': 1157.0},\n",
       "   'weighted avg': {'precision': 0.9761601391747539,\n",
       "    'recall': 0.975799481417459,\n",
       "    'f1-score': 0.9758162785269319,\n",
       "    'support': 1157.0}},\n",
       "  {'loss': 0.08204894382573469,\n",
       "   'drowning': {'precision': 0.9770114942528736,\n",
       "    'recall': 0.9340659340659341,\n",
       "    'f1-score': 0.9550561797752809,\n",
       "    'support': 182.0},\n",
       "   'swimming': {'precision': 0.9912536443148688,\n",
       "    'recall': 0.9855072463768116,\n",
       "    'f1-score': 0.9883720930232558,\n",
       "    'support': 690.0},\n",
       "   'treadwater': {'precision': 0.9427609427609428,\n",
       "    'recall': 0.9824561403508771,\n",
       "    'f1-score': 0.9621993127147767,\n",
       "    'support': 285.0},\n",
       "   'accuracy': 0.9766637856525497,\n",
       "   'macro avg': {'precision': 0.9703420271095617,\n",
       "    'recall': 0.9673431069312076,\n",
       "    'f1-score': 0.9685425285044378,\n",
       "    'support': 1157.0},\n",
       "   'weighted avg': {'precision': 0.9770682586155153,\n",
       "    'recall': 0.9766637856525497,\n",
       "    'f1-score': 0.9766843327820736,\n",
       "    'support': 1157.0}},\n",
       "  {'loss': 0.0797956776337201,\n",
       "   'drowning': {'precision': 0.9774011299435028,\n",
       "    'recall': 0.9505494505494505,\n",
       "    'f1-score': 0.9637883008356546,\n",
       "    'support': 182.0},\n",
       "   'swimming': {'precision': 0.9912663755458515,\n",
       "    'recall': 0.9869565217391304,\n",
       "    'f1-score': 0.9891067538126361,\n",
       "    'support': 690.0},\n",
       "   'treadwater': {'precision': 0.9556313993174061,\n",
       "    'recall': 0.9824561403508771,\n",
       "    'f1-score': 0.9688581314878892,\n",
       "    'support': 285.0},\n",
       "   'accuracy': 0.9801210025929127,\n",
       "   'macro avg': {'precision': 0.9747663016022535,\n",
       "    'recall': 0.9733207042131528,\n",
       "    'f1-score': 0.9739177287120601,\n",
       "    'support': 1157.0},\n",
       "   'weighted avg': {'precision': 0.980307479327412,\n",
       "    'recall': 0.9801210025929127,\n",
       "    'f1-score': 0.980136299357698,\n",
       "    'support': 1157.0}}])"
      ]
     },
     "execution_count": 6,
     "metadata": {},
     "output_type": "execute_result"
    }
   ],
   "source": [
    "results"
   ]
  },
  {
   "cell_type": "code",
   "execution_count": 8,
   "id": "a53d840d",
   "metadata": {},
   "outputs": [
    {
     "name": "stdout",
     "output_type": "stream",
     "text": [
      "Model saved to C:/Users/PC/Downloads/Jie Shen/Drowning-Detection/models/classification/CNN\\test.pt\n"
     ]
    }
   ],
   "source": [
    "model.save(\n",
    "    os.path.join(os.getenv('CNN_MODEL_DIR'), 'test.pt')\n",
    ")"
   ]
  },
  {
   "cell_type": "code",
   "execution_count": 7,
   "id": "1ef083eb",
   "metadata": {},
   "outputs": [
    {
     "name": "stdout",
     "output_type": "stream",
     "text": [
      "[0.6086047  0.12980805 0.26158726]\n",
      "drowning\n"
     ]
    },
    {
     "name": "stderr",
     "output_type": "stream",
     "text": [
      "Validation: 100%|██████████| 37/37 [00:16<00:00,  2.27it/s]"
     ]
    },
    {
     "name": "stdout",
     "output_type": "stream",
     "text": [
      "              precision    recall  f1-score   support\n",
      "\n",
      "    drowning     0.9730    0.9890    0.9809       182\n",
      "    swimming     0.9913    0.9942    0.9928       690\n",
      "  treadwater     0.9786    0.9614    0.9699       285\n",
      "\n",
      "    accuracy                         0.9853      1157\n",
      "   macro avg     0.9810    0.9815    0.9812      1157\n",
      "weighted avg     0.9853    0.9853    0.9853      1157\n",
      "\n"
     ]
    },
    {
     "name": "stderr",
     "output_type": "stream",
     "text": [
      "\n"
     ]
    }
   ],
   "source": [
    "# Add model prediction here\n",
    "loaded_model = TorchClassifier(model='CNNClassifier', model_path=os.path.join(os.getenv('CNN_MODEL_DIR'), 'test.pt'), device='auto', verbose=False)\n",
    "\n",
    "img = Image.open(rf'C:\\Users\\hp\\Downloads\\Drowning-Detection\\data\\roi\\val\\drowning\\{str(63).zfill(6)}.jpg')\n",
    "\n",
    "class RGBToHSV:\n",
    "    def __call__(self, img):\n",
    "        # Ensure the image is in PIL format before converting\n",
    "        if isinstance(img, torch.Tensor):\n",
    "            img = transforms.ToPILImage()(img)  # Convert tensor to PIL image\n",
    "        \n",
    "        # Convert the image to HSV using PIL\n",
    "        img_hsv = img.convert(\"HSV\")\n",
    "        \n",
    "        return img_hsv\n",
    "\n",
    "val_transform = transforms.Compose([\n",
    "    transforms.Resize((128, 128)),\n",
    "    RGBToHSV(),\n",
    "    transforms.ToTensor()\n",
    "])\n",
    "\n",
    "prediction = loaded_model(\n",
    "    img=img,\n",
    "    transform=val_transform,\n",
    "    prob=True\n",
    ").cpu().numpy()\n",
    "\n",
    "IDX_TO_CLASS2 = {\n",
    "    0: 'drowning',\n",
    "    1: 'swimming',\n",
    "    2: 'treadwater'\n",
    "}\n",
    "\n",
    "print(prediction)\n",
    "print(IDX_TO_CLASS2[np.argmax(prediction)])\n",
    "\n",
    "loaded_model_results = loaded_model.validate(\n",
    "    data_path=os.getenv('ROI_DATA_DIR'),\n",
    "    transform=val_transform,\n",
    "    val_test_ratio=0.5\n",
    ")"
   ]
  }
 ],
 "metadata": {
  "kernelspec": {
   "display_name": ".venv",
   "language": "python",
   "name": "python3"
  },
  "language_info": {
   "codemirror_mode": {
    "name": "ipython",
    "version": 3
   },
   "file_extension": ".py",
   "mimetype": "text/x-python",
   "name": "python",
   "nbconvert_exporter": "python",
   "pygments_lexer": "ipython3",
   "version": "3.11.12"
  }
 },
 "nbformat": 4,
 "nbformat_minor": 5
}
