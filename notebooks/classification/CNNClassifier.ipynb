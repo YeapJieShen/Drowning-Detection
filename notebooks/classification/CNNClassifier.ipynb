{
 "cells": [
  {
   "cell_type": "markdown",
   "id": "b97d7eab",
   "metadata": {},
   "source": [
    "# Detection with CNNClassifier\n"
   ]
  },
  {
   "cell_type": "code",
   "execution_count": 1,
   "id": "f2f78dc7",
   "metadata": {},
   "outputs": [
    {
     "data": {
      "text/markdown": [
       "\n",
       "**Last Updated**: 2025-05-01 20:06:51\n",
       "\n",
       "**Python Version**: 3.11.11  \n",
       "**OS**: Windows 10.0.26100  \n",
       "**Architecture**: 64bit  \n",
       "**Hostname**: DESKTOP-42J9AQP  \n",
       "**Processor**: Intel64 Family 6 Model 183 Stepping 1, GenuineIntel  \n",
       "**RAM Size**: 63.85 GB  \n",
       "  \n",
       "        "
      ],
      "text/plain": [
       "<IPython.core.display.Markdown object>"
      ]
     },
     "metadata": {},
     "output_type": "display_data"
    }
   ],
   "source": [
    "from dotenv import load_dotenv\n",
    "\n",
    "load_dotenv()\n",
    "\n",
    "import sys\n",
    "import os\n",
    "\n",
    "sys.path.append(os.getenv('SRC_DIR'))\n",
    "\n",
    "from utils.system import display_system_info\n",
    "\n",
    "display_system_info(markdown=True)"
   ]
  },
  {
   "cell_type": "code",
   "execution_count": 2,
   "id": "58fb15d3",
   "metadata": {},
   "outputs": [],
   "source": [
    "from torchvision import transforms\n",
    "import torch\n",
    "import cv2\n",
    "from PIL import Image\n",
    "import numpy as np\n",
    "\n",
    "from classify import TorchClassifier"
   ]
  },
  {
   "cell_type": "code",
   "execution_count": 3,
   "id": "a54e8904",
   "metadata": {},
   "outputs": [],
   "source": [
    "IDX_TO_CLASS = {\n",
    "    0: 'swimming',\n",
    "    1: 'treadwater',\n",
    "    2: 'drowning'\n",
    "}\n",
    "\n",
    "def xywhn_to_xyxy(image, x_n, y_n, w_n, h_n):\n",
    "    # cv2 images in HWC\n",
    "    height, width, _ = image.shape\n",
    "\n",
    "    x1 = int((x_n - w_n / 2) * width)\n",
    "    y1 = int((y_n - h_n / 2) * height)\n",
    "    x2 = int((x_n + w_n / 2) * width)\n",
    "    y2 = int((y_n + h_n / 2) * height)\n",
    "\n",
    "    return x1, y1, x2, y2\n",
    "\n",
    "def cop_save_roi(images_folder, labels_folder, output_folder, idx_to_class):\n",
    "    os.makedirs(output_folder, exist_ok=True)\n",
    "    for class_id, class_name in idx_to_class.items():\n",
    "        os.makedirs(os.path.join(output_folder, class_name), exist_ok=True)\n",
    "        \n",
    "    class_counters = {class_id: 0 for class_id in idx_to_class.keys()}\n",
    "\n",
    "    for image_file in os.listdir(images_folder):\n",
    "        if image_file.endswith('.jpg'):\n",
    "            base_name = os.path.splitext(image_file)[0]\n",
    "            \n",
    "            label_file = os.path.join(labels_folder, f\"{base_name}.txt\")\n",
    "            image_path = os.path.join(images_folder, image_file)\n",
    "            \n",
    "            image = cv2.imread(image_path)\n",
    "            \n",
    "            # Read the label file\n",
    "            with open(label_file, 'r') as file:\n",
    "                lines = file.readlines()\n",
    "            \n",
    "            # Loop through each line in the label file\n",
    "            for line in lines:\n",
    "                values = line.strip().split()\n",
    "                class_id = int(values[0])\n",
    "                x_n, y_n, w_n, h_n = map(float, values[1:])\n",
    "\n",
    "                x1, y1, x2, y2 = xywhn_to_xyxy(image, x_n, y_n, w_n, h_n)\n",
    "\n",
    "                roi = image[y1:y2, x1:x2]\n",
    "\n",
    "                cv2.imwrite(os.path.join(output_folder, idx_to_class[class_id], f\"{str(class_counters[class_id]).zfill(6)}.jpg\"), roi)\n",
    "\n",
    "                class_counters[class_id] += 1"
   ]
  },
  {
   "cell_type": "code",
   "execution_count": 4,
   "id": "8135f2bf",
   "metadata": {},
   "outputs": [],
   "source": [
    "for split in ['train', 'val']:\n",
    "    images_folder = os.path.join(os.getenv('RAW_DATA_DIR'), 'images', split)\n",
    "    labels_folder = os.path.join(os.getenv('RAW_DATA_DIR'), 'labels', split)\n",
    "    output_folder = os.path.join(os.getenv('ROI_DATA_DIR'), split)\n",
    "\n",
    "    cop_save_roi(images_folder, labels_folder, output_folder, IDX_TO_CLASS)"
   ]
  },
  {
   "cell_type": "code",
   "execution_count": 4,
   "id": "7733b435",
   "metadata": {},
   "outputs": [
    {
     "name": "stdout",
     "output_type": "stream",
     "text": [
      "New model created: CNNClassifier(\n",
      "  (features): Sequential(\n",
      "    (0): ConvBlock(\n",
      "      (block): Sequential(\n",
      "        (0): Conv2d(3, 32, kernel_size=(3, 3), stride=(1, 1), padding=(1, 1), bias=False)\n",
      "        (1): BatchNorm2d(32, eps=1e-05, momentum=0.1, affine=True, track_running_stats=True)\n",
      "        (2): ReLU(inplace=True)\n",
      "        (3): MaxPool2d(kernel_size=2, stride=2, padding=0, dilation=1, ceil_mode=False)\n",
      "      )\n",
      "    )\n",
      "    (1): ConvBlock(\n",
      "      (block): Sequential(\n",
      "        (0): Conv2d(32, 64, kernel_size=(3, 3), stride=(1, 1), padding=(1, 1), bias=False)\n",
      "        (1): BatchNorm2d(64, eps=1e-05, momentum=0.1, affine=True, track_running_stats=True)\n",
      "        (2): ReLU(inplace=True)\n",
      "        (3): MaxPool2d(kernel_size=2, stride=2, padding=0, dilation=1, ceil_mode=False)\n",
      "      )\n",
      "    )\n",
      "    (2): ConvBlock(\n",
      "      (block): Sequential(\n",
      "        (0): Conv2d(64, 128, kernel_size=(3, 3), stride=(1, 1), padding=(1, 1), bias=False)\n",
      "        (1): BatchNorm2d(128, eps=1e-05, momentum=0.1, affine=True, track_running_stats=True)\n",
      "        (2): ReLU(inplace=True)\n",
      "        (3): MaxPool2d(kernel_size=2, stride=2, padding=0, dilation=1, ceil_mode=False)\n",
      "      )\n",
      "    )\n",
      "    (3): ConvBlock(\n",
      "      (block): Sequential(\n",
      "        (0): Conv2d(128, 256, kernel_size=(3, 3), stride=(1, 1), padding=(1, 1), bias=False)\n",
      "        (1): BatchNorm2d(256, eps=1e-05, momentum=0.1, affine=True, track_running_stats=True)\n",
      "        (2): ReLU(inplace=True)\n",
      "        (3): MaxPool2d(kernel_size=2, stride=2, padding=0, dilation=1, ceil_mode=False)\n",
      "      )\n",
      "    )\n",
      "  )\n",
      "  (classifier): Sequential(\n",
      "    (0): Flatten(start_dim=1, end_dim=-1)\n",
      "    (1): Linear(in_features=16384, out_features=512, bias=True)\n",
      "    (2): ReLU(inplace=True)\n",
      "    (3): Dropout(p=0.5, inplace=False)\n",
      "    (4): Linear(in_features=512, out_features=3, bias=True)\n",
      "  )\n",
      ")\n"
     ]
    }
   ],
   "source": [
    "model_config = {\n",
    "    'num_classes': 3,\n",
    "    'num_blocks': 4,\n",
    "    'first_out_channel': 32,\n",
    "    'out_channel_multiplier': 2,\n",
    "    'kernel_size': 3,\n",
    "    'stride': 1,\n",
    "    'padding': 1,\n",
    "    'input_shape': (3, 128, 128)\n",
    "}\n",
    "\n",
    "model = TorchClassifier(model='CNNClassifier', config=model_config, device='auto', verbose=True)"
   ]
  },
  {
   "cell_type": "code",
   "execution_count": 5,
   "id": "65f39911",
   "metadata": {},
   "outputs": [],
   "source": [
    "# class RandomAffineWithInpainting:\n",
    "#     def __init__(self, degrees=10, translate=(0.1, 0.1), radius=3):\n",
    "#         self.affine = transforms.RandomAffine(degrees=degrees, translate=translate)\n",
    "#         self.inpaint_radius = radius\n",
    "\n",
    "#     def __call__(self, img):\n",
    "#         # Step 1: Apply affine transform (returns PIL image)\n",
    "#         img = self.affine(img)\n",
    "\n",
    "#         # Step 2: Convert to NumPy array\n",
    "#         img_np = np.array(img)\n",
    "\n",
    "#         return Image.fromarray(img_np)\n",
    "\n",
    "#         # Step 3: Create mask where pixels are black\n",
    "#         gray = cv2.cvtColor(img_np, cv2.COLOR_RGB2GRAY)\n",
    "#         mask = cv2.inRange(gray, 0, 1)\n",
    "\n",
    "#         # Step 4: Inpaint using OpenCV\n",
    "#         inpainted_np = cv2.inpaint(img_np, mask, self.inpaint_radius, cv2.INPAINT_TELEA)\n",
    "\n",
    "#         # Step 5: Convert back to PIL\n",
    "#         img_inpainted = Image.fromarray(inpainted_np)\n",
    "\n",
    "#         return img_inpainted\n",
    "    \n",
    "class RGBToHSV:\n",
    "    def __call__(self, img):\n",
    "        # Ensure the image is in PIL format before converting\n",
    "        if isinstance(img, torch.Tensor):\n",
    "            img = transforms.ToPILImage()(img)  # Convert tensor to PIL image\n",
    "        \n",
    "        # Convert the image to HSV using PIL\n",
    "        img_hsv = img.convert(\"HSV\")\n",
    "        \n",
    "        return img_hsv\n",
    "    \n",
    "class VBlurring:\n",
    "    def __call__(self, img):\n",
    "        # Ensure the image is in PIL format before converting\n",
    "        if isinstance(img, torch.Tensor):\n",
    "            img = transforms.ToPILImage()(img)\n",
    "\n",
    "        # apply blurring to the V channel of the HSV image\n",
    "        h, s, v = cv2.split(np.array(img))\n",
    "\n",
    "        v_blurred = cv2.blur(v, (7, 7))  # Apply 3x3 average blur to the V channel\n",
    "\n",
    "        img_hsv_blurred = cv2.merge([h, s, v_blurred])\n",
    "\n",
    "        return Image.fromarray(img_hsv_blurred)\n",
    "\n",
    "aug_transform = transforms.Compose([\n",
    "    transforms.RandomHorizontalFlip(p=1.0),\n",
    "    transforms.RandomAffine(degrees=10, translate=(0.1, 0.1))\n",
    "])\n",
    "\n",
    "enhance_transform = transforms.Compose([\n",
    "    transforms.Resize((128, 128)),\n",
    "    RGBToHSV(),\n",
    "    # VBlurring(),\n",
    "    # May addd certain non-deterministic augmentations here to improve generalisability\n",
    "    transforms.ToTensor()\n",
    "])\n",
    "\n",
    "val_transform = transforms.Compose([\n",
    "    transforms.Resize((128, 128)),\n",
    "    RGBToHSV(),\n",
    "    transforms.ToTensor()\n",
    "])"
   ]
  },
  {
   "cell_type": "code",
   "execution_count": 6,
   "id": "ea60eb0b",
   "metadata": {},
   "outputs": [
    {
     "name": "stdout",
     "output_type": "stream",
     "text": [
      "      Epoch       Loss   Accuracy    Macro(P          R        F1) Weighted(P          R        F1)\n"
     ]
    },
    {
     "name": "stderr",
     "output_type": "stream",
     "text": [
      "       1/10     0.3267      87.19     0.8719     0.8724     0.8721     0.8719     0.8724     0.8721: 100%|██████████| 552/552 [00:35<00:00, 15.46it/s]\n"
     ]
    },
    {
     "name": "stdout",
     "output_type": "stream",
     "text": [
      "                  Loss\n"
     ]
    },
    {
     "name": "stderr",
     "output_type": "stream",
     "text": [
      "                0.1123: 100%|██████████| 37/37 [00:01<00:00, 24.34it/s]\n"
     ]
    },
    {
     "name": "stdout",
     "output_type": "stream",
     "text": [
      "              precision    recall  f1-score   support\n",
      "\n",
      "    drowning     0.9180    0.9231    0.9205       182\n",
      "    swimming     0.9898    0.9812    0.9854       690\n",
      "  treadwater     0.9345    0.9509    0.9426       285\n",
      "\n",
      "    accuracy                         0.9646      1157\n",
      "   macro avg     0.9474    0.9517    0.9495      1157\n",
      "weighted avg     0.9649    0.9646    0.9647      1157\n",
      "\n",
      "      Epoch       Loss   Accuracy    Macro(P          R        F1) Weighted(P          R        F1)\n"
     ]
    },
    {
     "name": "stderr",
     "output_type": "stream",
     "text": [
      "       2/10     0.1904      93.31     0.9336     0.9336     0.9336     0.9336     0.9336     0.9336: 100%|██████████| 552/552 [00:36<00:00, 15.24it/s]\n"
     ]
    },
    {
     "name": "stdout",
     "output_type": "stream",
     "text": [
      "                  Loss\n"
     ]
    },
    {
     "name": "stderr",
     "output_type": "stream",
     "text": [
      "                0.1007: 100%|██████████| 37/37 [00:01<00:00, 24.48it/s]\n"
     ]
    },
    {
     "name": "stdout",
     "output_type": "stream",
     "text": [
      "              precision    recall  f1-score   support\n",
      "\n",
      "    drowning     0.8838    0.9615    0.9211       182\n",
      "    swimming     0.9883    0.9783    0.9832       690\n",
      "  treadwater     0.9529    0.9228    0.9376       285\n",
      "\n",
      "    accuracy                         0.9620      1157\n",
      "   macro avg     0.9417    0.9542    0.9473      1157\n",
      "weighted avg     0.9631    0.9620    0.9622      1157\n",
      "\n",
      "      Epoch       Loss   Accuracy    Macro(P          R        F1) Weighted(P          R        F1)\n"
     ]
    },
    {
     "name": "stderr",
     "output_type": "stream",
     "text": [
      "       3/10     0.1623      94.36     0.9441     0.9441     0.9441     0.9441     0.9441     0.9441: 100%|██████████| 552/552 [00:36<00:00, 15.22it/s]\n"
     ]
    },
    {
     "name": "stdout",
     "output_type": "stream",
     "text": [
      "                  Loss\n"
     ]
    },
    {
     "name": "stderr",
     "output_type": "stream",
     "text": [
      "               0.09829: 100%|██████████| 37/37 [00:01<00:00, 24.64it/s]\n"
     ]
    },
    {
     "name": "stdout",
     "output_type": "stream",
     "text": [
      "              precision    recall  f1-score   support\n",
      "\n",
      "    drowning     0.9767    0.9231    0.9492       182\n",
      "    swimming     0.9717    0.9957    0.9835       690\n",
      "  treadwater     0.9676    0.9439    0.9556       285\n",
      "\n",
      "    accuracy                         0.9715      1157\n",
      "   macro avg     0.9720    0.9542    0.9628      1157\n",
      "weighted avg     0.9715    0.9715    0.9712      1157\n",
      "\n",
      "      Epoch       Loss   Accuracy    Macro(P          R        F1) Weighted(P          R        F1)\n"
     ]
    },
    {
     "name": "stderr",
     "output_type": "stream",
     "text": [
      "       4/10     0.1438         95     0.9506     0.9505     0.9506     0.9506     0.9505     0.9506: 100%|██████████| 552/552 [00:36<00:00, 15.24it/s]\n"
     ]
    },
    {
     "name": "stdout",
     "output_type": "stream",
     "text": [
      "                  Loss\n"
     ]
    },
    {
     "name": "stderr",
     "output_type": "stream",
     "text": [
      "               0.08578: 100%|██████████| 37/37 [00:01<00:00, 24.13it/s]\n"
     ]
    },
    {
     "name": "stdout",
     "output_type": "stream",
     "text": [
      "              precision    recall  f1-score   support\n",
      "\n",
      "    drowning     0.9348    0.9451    0.9399       182\n",
      "    swimming     0.9856    0.9913    0.9884       690\n",
      "  treadwater     0.9642    0.9439    0.9539       285\n",
      "\n",
      "    accuracy                         0.9723      1157\n",
      "   macro avg     0.9615    0.9601    0.9607      1157\n",
      "weighted avg     0.9723    0.9723    0.9723      1157\n",
      "\n",
      "      Epoch       Loss   Accuracy    Macro(P          R        F1) Weighted(P          R        F1)\n"
     ]
    },
    {
     "name": "stderr",
     "output_type": "stream",
     "text": [
      "       5/10     0.1365      95.08     0.9513     0.9513     0.9513     0.9513     0.9513     0.9513: 100%|██████████| 552/552 [00:35<00:00, 15.38it/s]\n"
     ]
    },
    {
     "name": "stdout",
     "output_type": "stream",
     "text": [
      "                  Loss\n"
     ]
    },
    {
     "name": "stderr",
     "output_type": "stream",
     "text": [
      "               0.08818: 100%|██████████| 37/37 [00:01<00:00, 24.16it/s]\n"
     ]
    },
    {
     "name": "stdout",
     "output_type": "stream",
     "text": [
      "              precision    recall  f1-score   support\n",
      "\n",
      "    drowning     0.9067    0.9615    0.9333       182\n",
      "    swimming     0.9912    0.9826    0.9869       690\n",
      "  treadwater     0.9643    0.9474    0.9558       285\n",
      "\n",
      "    accuracy                         0.9706      1157\n",
      "   macro avg     0.9541    0.9638    0.9587      1157\n",
      "weighted avg     0.9713    0.9706    0.9708      1157\n",
      "\n",
      "      Epoch       Loss   Accuracy    Macro(P          R        F1) Weighted(P          R        F1)\n"
     ]
    },
    {
     "name": "stderr",
     "output_type": "stream",
     "text": [
      "       6/10     0.1065      96.29     0.9634     0.9634     0.9634     0.9634     0.9634     0.9634: 100%|██████████| 552/552 [00:36<00:00, 15.30it/s]\n"
     ]
    },
    {
     "name": "stdout",
     "output_type": "stream",
     "text": [
      "                  Loss\n"
     ]
    },
    {
     "name": "stderr",
     "output_type": "stream",
     "text": [
      "               0.07074: 100%|██████████| 37/37 [00:01<00:00, 24.63it/s]\n"
     ]
    },
    {
     "name": "stdout",
     "output_type": "stream",
     "text": [
      "              precision    recall  f1-score   support\n",
      "\n",
      "    drowning     0.9451    0.9451    0.9451       182\n",
      "    swimming     0.9913    0.9870    0.9891       690\n",
      "  treadwater     0.9583    0.9684    0.9634       285\n",
      "\n",
      "    accuracy                         0.9758      1157\n",
      "   macro avg     0.9649    0.9668    0.9658      1157\n",
      "weighted avg     0.9759    0.9758    0.9758      1157\n",
      "\n",
      "      Epoch       Loss   Accuracy    Macro(P          R        F1) Weighted(P          R        F1)\n"
     ]
    },
    {
     "name": "stderr",
     "output_type": "stream",
     "text": [
      "       7/10    0.09553      96.74      0.968     0.9679     0.9679      0.968     0.9679     0.9679: 100%|██████████| 552/552 [00:35<00:00, 15.47it/s]\n"
     ]
    },
    {
     "name": "stdout",
     "output_type": "stream",
     "text": [
      "                  Loss\n"
     ]
    },
    {
     "name": "stderr",
     "output_type": "stream",
     "text": [
      "               0.06993: 100%|██████████| 37/37 [00:01<00:00, 24.38it/s]\n"
     ]
    },
    {
     "name": "stdout",
     "output_type": "stream",
     "text": [
      "              precision    recall  f1-score   support\n",
      "\n",
      "    drowning     0.9560    0.9560    0.9560       182\n",
      "    swimming     0.9927    0.9870    0.9898       690\n",
      "  treadwater     0.9619    0.9754    0.9686       285\n",
      "\n",
      "    accuracy                         0.9793      1157\n",
      "   macro avg     0.9702    0.9728    0.9715      1157\n",
      "weighted avg     0.9794    0.9793    0.9793      1157\n",
      "\n",
      "      Epoch       Loss   Accuracy    Macro(P          R        F1) Weighted(P          R        F1)\n"
     ]
    },
    {
     "name": "stderr",
     "output_type": "stream",
     "text": [
      "       8/10    0.09536      96.73     0.9679     0.9678     0.9679     0.9679     0.9678     0.9679: 100%|██████████| 552/552 [00:36<00:00, 15.22it/s]\n"
     ]
    },
    {
     "name": "stdout",
     "output_type": "stream",
     "text": [
      "                  Loss\n"
     ]
    },
    {
     "name": "stderr",
     "output_type": "stream",
     "text": [
      "                0.0684: 100%|██████████| 37/37 [00:01<00:00, 24.46it/s]\n"
     ]
    },
    {
     "name": "stdout",
     "output_type": "stream",
     "text": [
      "              precision    recall  f1-score   support\n",
      "\n",
      "    drowning     0.9457    0.9560    0.9508       182\n",
      "    swimming     0.9956    0.9870    0.9913       690\n",
      "  treadwater     0.9619    0.9754    0.9686       285\n",
      "\n",
      "    accuracy                         0.9793      1157\n",
      "   macro avg     0.9677    0.9728    0.9702      1157\n",
      "weighted avg     0.9795    0.9793    0.9793      1157\n",
      "\n",
      "      Epoch       Loss   Accuracy    Macro(P          R        F1) Weighted(P          R        F1)\n"
     ]
    },
    {
     "name": "stderr",
     "output_type": "stream",
     "text": [
      "       9/10    0.08913      96.91     0.9697     0.9697     0.9697     0.9697     0.9697     0.9697: 100%|██████████| 552/552 [00:36<00:00, 15.29it/s]\n"
     ]
    },
    {
     "name": "stdout",
     "output_type": "stream",
     "text": [
      "                  Loss\n"
     ]
    },
    {
     "name": "stderr",
     "output_type": "stream",
     "text": [
      "               0.06831: 100%|██████████| 37/37 [00:01<00:00, 24.14it/s]\n"
     ]
    },
    {
     "name": "stdout",
     "output_type": "stream",
     "text": [
      "              precision    recall  f1-score   support\n",
      "\n",
      "    drowning     0.9560    0.9560    0.9560       182\n",
      "    swimming     0.9927    0.9899    0.9913       690\n",
      "  treadwater     0.9686    0.9754    0.9720       285\n",
      "\n",
      "    accuracy                         0.9810      1157\n",
      "   macro avg     0.9725    0.9738    0.9731      1157\n",
      "weighted avg     0.9810    0.9810    0.9810      1157\n",
      "\n",
      "      Epoch       Loss   Accuracy    Macro(P          R        F1) Weighted(P          R        F1)\n"
     ]
    },
    {
     "name": "stderr",
     "output_type": "stream",
     "text": [
      "      10/10    0.08761      96.96     0.9702     0.9701     0.9701     0.9702     0.9701     0.9701: 100%|██████████| 552/552 [00:36<00:00, 15.26it/s]\n"
     ]
    },
    {
     "name": "stdout",
     "output_type": "stream",
     "text": [
      "                  Loss\n"
     ]
    },
    {
     "name": "stderr",
     "output_type": "stream",
     "text": [
      "               0.06596: 100%|██████████| 37/37 [00:01<00:00, 24.50it/s]"
     ]
    },
    {
     "name": "stdout",
     "output_type": "stream",
     "text": [
      "              precision    recall  f1-score   support\n",
      "\n",
      "    drowning     0.9511    0.9615    0.9563       182\n",
      "    swimming     0.9927    0.9855    0.9891       690\n",
      "  treadwater     0.9653    0.9754    0.9703       285\n",
      "\n",
      "    accuracy                         0.9793      1157\n",
      "   macro avg     0.9697    0.9742    0.9719      1157\n",
      "weighted avg     0.9794    0.9793    0.9793      1157\n",
      "\n"
     ]
    },
    {
     "name": "stderr",
     "output_type": "stream",
     "text": [
      "\n"
     ]
    }
   ],
   "source": [
    "results = model.train(\n",
    "    data_path=os.getenv('ROI_DATA_DIR'),\n",
    "    imbalance=True,\n",
    "    fraction=1,\n",
    "    val_test_ratio=0.5,\n",
    "    input_size=128,\n",
    "    optimizer='Adam',\n",
    "    lr=1e-4,\n",
    "    aug_transform=aug_transform,\n",
    "    enhance_transform=enhance_transform,\n",
    "    val_transform=val_transform,\n",
    "    batch_size=32,\n",
    "    epochs=10\n",
    ")"
   ]
  },
  {
   "cell_type": "code",
   "execution_count": 7,
   "id": "21f47d4e",
   "metadata": {},
   "outputs": [
    {
     "data": {
      "text/plain": [
       "([{'loss': 0.3265977770063108,\n",
       "   'accuracy': 87.19111312627523,\n",
       "   'macro_f1': 0.8720872035869585,\n",
       "   'weighted_f1': 0.8720872035869585,\n",
       "   'macro_precision': 0.8718794615384224,\n",
       "   'weighted_precision': 0.8718794615384224,\n",
       "   'macro_recall': 0.8724055801292957,\n",
       "   'weighted_recall': 0.8724055801292957},\n",
       "  {'loss': 0.1903235629821817,\n",
       "   'accuracy': 93.3121741101791,\n",
       "   'macro_f1': 0.9336494056892463,\n",
       "   'weighted_f1': 0.9336494056892461,\n",
       "   'macro_precision': 0.9336485547356398,\n",
       "   'weighted_precision': 0.9336485547356397,\n",
       "   'macro_recall': 0.9336509016672337,\n",
       "   'weighted_recall': 0.9336509016672337},\n",
       "  {'loss': 0.1621121565652741,\n",
       "   'accuracy': 94.3606891861256,\n",
       "   'macro_f1': 0.9441387033726253,\n",
       "   'weighted_f1': 0.9441387033726253,\n",
       "   'macro_precision': 0.9441552185534495,\n",
       "   'weighted_precision': 0.9441552185534494,\n",
       "   'macro_recall': 0.9441419984121584,\n",
       "   'weighted_recall': 0.9441419984121583},\n",
       "  {'loss': 0.143613475143734,\n",
       "   'accuracy': 95.00113352981184,\n",
       "   'macro_f1': 0.9505589736556926,\n",
       "   'weighted_f1': 0.9505589736556925,\n",
       "   'macro_precision': 0.9505774277914932,\n",
       "   'weighted_precision': 0.9505774277914931,\n",
       "   'macro_recall': 0.9505500737212204,\n",
       "   'weighted_recall': 0.9505500737212204},\n",
       "  {'loss': 0.13625898538220613,\n",
       "   'accuracy': 95.08048061664022,\n",
       "   'macro_f1': 0.9513271032435014,\n",
       "   'weighted_f1': 0.9513271032435017,\n",
       "   'macro_precision': 0.9513149297509168,\n",
       "   'weighted_precision': 0.9513149297509169,\n",
       "   'macro_recall': 0.9513439945559714,\n",
       "   'weighted_recall': 0.9513439945559714},\n",
       "  {'loss': 0.10633260183596471,\n",
       "   'accuracy': 96.28768986624348,\n",
       "   'macro_f1': 0.9634309019295078,\n",
       "   'weighted_f1': 0.9634309019295079,\n",
       "   'macro_precision': 0.963443999785668,\n",
       "   'weighted_precision': 0.9634439997856679,\n",
       "   'macro_recall': 0.9634229329703982,\n",
       "   'weighted_recall': 0.963422932970398},\n",
       "  {'loss': 0.09536343007989606,\n",
       "   'accuracy': 96.73543414191793,\n",
       "   'macro_f1': 0.9679222064853783,\n",
       "   'weighted_f1': 0.9679222064853782,\n",
       "   'macro_precision': 0.967971087835172,\n",
       "   'weighted_precision': 0.967971087835172,\n",
       "   'macro_recall': 0.9679029148236361,\n",
       "   'weighted_recall': 0.9679029148236361},\n",
       "  {'loss': 0.09518893608491044,\n",
       "   'accuracy': 96.72976649285876,\n",
       "   'macro_f1': 0.9678595922454893,\n",
       "   'weighted_f1': 0.9678595922454893,\n",
       "   'macro_precision': 0.96788843694825,\n",
       "   'weighted_precision': 0.96788843694825,\n",
       "   'macro_recall': 0.9678462061925824,\n",
       "   'weighted_recall': 0.9678462061925825},\n",
       "  {'loss': 0.08901307939685058,\n",
       "   'accuracy': 96.9111312627522,\n",
       "   'macro_f1': 0.9696698252607999,\n",
       "   'weighted_f1': 0.9696698252607999,\n",
       "   'macro_precision': 0.9696807807182948,\n",
       "   'weighted_precision': 0.9696807807182948,\n",
       "   'macro_recall': 0.9696608823862992,\n",
       "   'weighted_recall': 0.9696608823862992},\n",
       "  {'loss': 0.08749422310611935,\n",
       "   'accuracy': 96.95647245522557,\n",
       "   'macro_f1': 0.9701285857292866,\n",
       "   'weighted_f1': 0.9701285857292866,\n",
       "   'macro_precision': 0.9701571255588012,\n",
       "   'weighted_precision': 0.9701571255588012,\n",
       "   'macro_recall': 0.9701145514347284,\n",
       "   'weighted_recall': 0.9701145514347284}],\n",
       " [{'loss': 0.11232345065454373,\n",
       "   'drowning': {'precision': 0.9180327868852459,\n",
       "    'recall': 0.9230769230769231,\n",
       "    'f1-score': 0.9205479452054794,\n",
       "    'support': 182.0},\n",
       "   'swimming': {'precision': 0.9897660818713451,\n",
       "    'recall': 0.981159420289855,\n",
       "    'f1-score': 0.9854439592430859,\n",
       "    'support': 690.0},\n",
       "   'treadwater': {'precision': 0.9344827586206896,\n",
       "    'recall': 0.9508771929824561,\n",
       "    'f1-score': 0.9426086956521739,\n",
       "    'support': 285.0},\n",
       "   'accuracy': 0.9645635263612792,\n",
       "   'macro avg': {'precision': 0.9474272091257602,\n",
       "    'recall': 0.9517045121164114,\n",
       "    'f1-score': 0.949533533366913,\n",
       "    'support': 1157.0},\n",
       "   'weighted avg': {'precision': 0.9648644338040098,\n",
       "    'recall': 0.9645635263612792,\n",
       "    'f1-score': 0.964684128060498,\n",
       "    'support': 1157.0}},\n",
       "  {'loss': 0.10067446165831408,\n",
       "   'drowning': {'precision': 0.8838383838383839,\n",
       "    'recall': 0.9615384615384616,\n",
       "    'f1-score': 0.9210526315789473,\n",
       "    'support': 182.0},\n",
       "   'swimming': {'precision': 0.9882869692532943,\n",
       "    'recall': 0.9782608695652174,\n",
       "    'f1-score': 0.9832483612527313,\n",
       "    'support': 690.0},\n",
       "   'treadwater': {'precision': 0.9528985507246377,\n",
       "    'recall': 0.9228070175438596,\n",
       "    'f1-score': 0.9376114081996435,\n",
       "    'support': 285.0},\n",
       "   'accuracy': 0.9619706136560069,\n",
       "   'macro avg': {'precision': 0.9416746346054387,\n",
       "    'recall': 0.9542021162158463,\n",
       "    'f1-score': 0.9473041336771074,\n",
       "    'support': 1157.0},\n",
       "   'weighted avg': {'precision': 0.9631397420915132,\n",
       "    'recall': 0.9619706136560069,\n",
       "    'f1-score': 0.9622231629633978,\n",
       "    'support': 1157.0}},\n",
       "  {'loss': 0.09828886461390711,\n",
       "   'drowning': {'precision': 0.9767441860465116,\n",
       "    'recall': 0.9230769230769231,\n",
       "    'f1-score': 0.9491525423728814,\n",
       "    'support': 182.0},\n",
       "   'swimming': {'precision': 0.9717114568599717,\n",
       "    'recall': 0.9956521739130435,\n",
       "    'f1-score': 0.9835361488904796,\n",
       "    'support': 690.0},\n",
       "   'treadwater': {'precision': 0.9676258992805755,\n",
       "    'recall': 0.9438596491228071,\n",
       "    'f1-score': 0.955595026642984,\n",
       "    'support': 285.0},\n",
       "   'accuracy': 0.9714779602420052,\n",
       "   'macro avg': {'precision': 0.9720271807290196,\n",
       "    'recall': 0.954196248704258,\n",
       "    'f1-score': 0.962761239302115,\n",
       "    'support': 1157.0},\n",
       "   'weighted avg': {'precision': 0.971496740180475,\n",
       "    'recall': 0.9714779602420052,\n",
       "    'f1-score': 0.9712448470523299,\n",
       "    'support': 1157.0}},\n",
       "  {'loss': 0.08578365727963329,\n",
       "   'drowning': {'precision': 0.9347826086956522,\n",
       "    'recall': 0.945054945054945,\n",
       "    'f1-score': 0.9398907103825137,\n",
       "    'support': 182.0},\n",
       "   'swimming': {'precision': 0.9855907780979827,\n",
       "    'recall': 0.991304347826087,\n",
       "    'f1-score': 0.9884393063583815,\n",
       "    'support': 690.0},\n",
       "   'treadwater': {'precision': 0.96415770609319,\n",
       "    'recall': 0.9438596491228071,\n",
       "    'f1-score': 0.9539007092198581,\n",
       "    'support': 285.0},\n",
       "   'accuracy': 0.9723422644770959,\n",
       "   'macro avg': {'precision': 0.9615103642956083,\n",
       "    'recall': 0.9600729806679463,\n",
       "    'f1-score': 0.9607435753202512,\n",
       "    'support': 1157.0},\n",
       "   'weighted avg': {'precision': 0.9723189437396509,\n",
       "    'recall': 0.9723422644770959,\n",
       "    'f1-score': 0.9722946696668628,\n",
       "    'support': 1157.0}},\n",
       "  {'loss': 0.08817999972332571,\n",
       "   'drowning': {'precision': 0.9067357512953368,\n",
       "    'recall': 0.9615384615384616,\n",
       "    'f1-score': 0.9333333333333333,\n",
       "    'support': 182.0},\n",
       "   'swimming': {'precision': 0.9912280701754386,\n",
       "    'recall': 0.9826086956521739,\n",
       "    'f1-score': 0.9868995633187773,\n",
       "    'support': 690.0},\n",
       "   'treadwater': {'precision': 0.9642857142857143,\n",
       "    'recall': 0.9473684210526315,\n",
       "    'f1-score': 0.9557522123893806,\n",
       "    'support': 285.0},\n",
       "   'accuracy': 0.9706136560069144,\n",
       "   'macro avg': {'precision': 0.9540831785854965,\n",
       "    'recall': 0.963838526081089,\n",
       "    'f1-score': 0.9586617030138305,\n",
       "    'support': 1157.0},\n",
       "   'weighted avg': {'precision': 0.9713005218048681,\n",
       "    'recall': 0.9706136560069144,\n",
       "    'f1-score': 0.9708009903955026,\n",
       "    'support': 1157.0}},\n",
       "  {'loss': 0.07073797878724322,\n",
       "   'drowning': {'precision': 0.945054945054945,\n",
       "    'recall': 0.945054945054945,\n",
       "    'f1-score': 0.945054945054945,\n",
       "    'support': 182.0},\n",
       "   'swimming': {'precision': 0.9912663755458515,\n",
       "    'recall': 0.9869565217391304,\n",
       "    'f1-score': 0.9891067538126361,\n",
       "    'support': 690.0},\n",
       "   'treadwater': {'precision': 0.9583333333333334,\n",
       "    'recall': 0.968421052631579,\n",
       "    'f1-score': 0.9633507853403142,\n",
       "    'support': 285.0},\n",
       "   'accuracy': 0.975799481417459,\n",
       "   'macro avg': {'precision': 0.96488488464471,\n",
       "    'recall': 0.9668108398085514,\n",
       "    'f1-score': 0.9658374947359651,\n",
       "    'support': 1157.0},\n",
       "   'weighted avg': {'precision': 0.975884873921035,\n",
       "    'recall': 0.975799481417459,\n",
       "    'f1-score': 0.9758328729064032,\n",
       "    'support': 1157.0}},\n",
       "  {'loss': 0.06992801563417841,\n",
       "   'drowning': {'precision': 0.9560439560439561,\n",
       "    'recall': 0.9560439560439561,\n",
       "    'f1-score': 0.9560439560439561,\n",
       "    'support': 182.0},\n",
       "   'swimming': {'precision': 0.9927113702623906,\n",
       "    'recall': 0.9869565217391304,\n",
       "    'f1-score': 0.9898255813953488,\n",
       "    'support': 690.0},\n",
       "   'treadwater': {'precision': 0.9619377162629758,\n",
       "    'recall': 0.9754385964912281,\n",
       "    'f1-score': 0.9686411149825784,\n",
       "    'support': 285.0},\n",
       "   'accuracy': 0.9792566983578219,\n",
       "   'macro avg': {'precision': 0.9702310141897742,\n",
       "    'recall': 0.9728130247581048,\n",
       "    'f1-score': 0.9715035508072946,\n",
       "    'support': 1157.0},\n",
       "   'weighted avg': {'precision': 0.9793630895557456,\n",
       "    'recall': 0.9792566983578219,\n",
       "    'f1-score': 0.9792933180058992,\n",
       "    'support': 1157.0}},\n",
       "  {'loss': 0.06839959277154727,\n",
       "   'drowning': {'precision': 0.9456521739130435,\n",
       "    'recall': 0.9560439560439561,\n",
       "    'f1-score': 0.9508196721311475,\n",
       "    'support': 182.0},\n",
       "   'swimming': {'precision': 0.9956140350877193,\n",
       "    'recall': 0.9869565217391304,\n",
       "    'f1-score': 0.9912663755458515,\n",
       "    'support': 690.0},\n",
       "   'treadwater': {'precision': 0.9619377162629758,\n",
       "    'recall': 0.9754385964912281,\n",
       "    'f1-score': 0.9686411149825784,\n",
       "    'support': 285.0},\n",
       "   'accuracy': 0.9792566983578219,\n",
       "   'macro avg': {'precision': 0.9677346417545795,\n",
       "    'recall': 0.9728130247581048,\n",
       "    'f1-score': 0.9702423875531925,\n",
       "    'support': 1157.0},\n",
       "   'weighted avg': {'precision': 0.9794594891941645,\n",
       "    'recall': 0.9792566983578219,\n",
       "    'f1-score': 0.9793307668319285,\n",
       "    'support': 1157.0}},\n",
       "  {'loss': 0.0683132278083232,\n",
       "   'drowning': {'precision': 0.9560439560439561,\n",
       "    'recall': 0.9560439560439561,\n",
       "    'f1-score': 0.9560439560439561,\n",
       "    'support': 182.0},\n",
       "   'swimming': {'precision': 0.9927325581395349,\n",
       "    'recall': 0.9898550724637681,\n",
       "    'f1-score': 0.9912917271407837,\n",
       "    'support': 690.0},\n",
       "   'treadwater': {'precision': 0.9686411149825784,\n",
       "    'recall': 0.9754385964912281,\n",
       "    'f1-score': 0.972027972027972,\n",
       "    'support': 285.0},\n",
       "   'accuracy': 0.9809853068280034,\n",
       "   'macro avg': {'precision': 0.9724725430553565,\n",
       "    'recall': 0.9737792083329841,\n",
       "    'f1-score': 0.9731212184042373,\n",
       "    'support': 1157.0},\n",
       "   'weighted avg': {'precision': 0.9810269515007035,\n",
       "    'recall': 0.9809853068280034,\n",
       "    'f1-score': 0.981001956573131,\n",
       "    'support': 1157.0}},\n",
       "  {'loss': 0.06595625702804583,\n",
       "   'drowning': {'precision': 0.9510869565217391,\n",
       "    'recall': 0.9615384615384616,\n",
       "    'f1-score': 0.9562841530054644,\n",
       "    'support': 182.0},\n",
       "   'swimming': {'precision': 0.9927007299270073,\n",
       "    'recall': 0.9855072463768116,\n",
       "    'f1-score': 0.9890909090909091,\n",
       "    'support': 690.0},\n",
       "   'treadwater': {'precision': 0.9652777777777778,\n",
       "    'recall': 0.9754385964912281,\n",
       "    'f1-score': 0.9703315881326352,\n",
       "    'support': 285.0},\n",
       "   'accuracy': 0.9792566983578219,\n",
       "   'macro avg': {'precision': 0.9696884880755081,\n",
       "    'recall': 0.9741614348021671,\n",
       "    'f1-score': 0.971902216743003,\n",
       "    'support': 1157.0},\n",
       "   'weighted avg': {'precision': 0.9793997376000503,\n",
       "    'recall': 0.9792566983578219,\n",
       "    'f1-score': 0.9793093740168737,\n",
       "    'support': 1157.0}}])"
      ]
     },
     "execution_count": 7,
     "metadata": {},
     "output_type": "execute_result"
    }
   ],
   "source": [
    "results"
   ]
  },
  {
   "cell_type": "code",
   "execution_count": 8,
   "id": "a53d840d",
   "metadata": {},
   "outputs": [
    {
     "name": "stdout",
     "output_type": "stream",
     "text": [
      "Model saved to C:\\Users\\PC\\Downloads\\JieShen\\Drowning-Detection/models/classification/CNN\\test_new.pt\n"
     ]
    }
   ],
   "source": [
    "model.save(\n",
    "    os.path.join(os.getenv('CNN_MODEL_DIR'), 'test_new.pt')\n",
    ")"
   ]
  },
  {
   "cell_type": "code",
   "execution_count": 14,
   "id": "1ef083eb",
   "metadata": {},
   "outputs": [
    {
     "name": "stdout",
     "output_type": "stream",
     "text": [
      "[0.8826206  0.00696201 0.11041742]\n",
      "drowning\n"
     ]
    },
    {
     "name": "stderr",
     "output_type": "stream",
     "text": [
      "Validation: 100%|██████████| 37/37 [00:01<00:00, 24.69it/s]\n"
     ]
    },
    {
     "name": "stdout",
     "output_type": "stream",
     "text": [
      "              precision    recall  f1-score   support\n",
      "\n",
      "    drowning     0.9677    0.9890    0.9783       182\n",
      "    swimming     0.9928    0.9928    0.9928       690\n",
      "  treadwater     0.9751    0.9614    0.9682       285\n",
      "\n",
      "    accuracy                         0.9844      1157\n",
      "   macro avg     0.9785    0.9811    0.9797      1157\n",
      "weighted avg     0.9845    0.9844    0.9844      1157\n",
      "\n"
     ]
    }
   ],
   "source": [
    "# Add model prediction here\n",
    "loaded_model = TorchClassifier(model='CNNClassifier', model_path=os.path.join(os.getenv('CNN_MODEL_DIR'), 'test_new.pt'), device='auto', verbose=False)\n",
    "\n",
    "img = Image.open(rf'C:\\Users\\PC\\Downloads\\JieShen\\Drowning-Detection\\data\\roi\\val\\drowning\\{str(63).zfill(6)}.jpg')\n",
    "\n",
    "class RGBToHSV:\n",
    "    def __call__(self, img):\n",
    "        # Ensure the image is in PIL format before converting\n",
    "        if isinstance(img, torch.Tensor):\n",
    "            img = transforms.ToPILImage()(img)  # Convert tensor to PIL image\n",
    "        \n",
    "        # Convert the image to HSV using PIL\n",
    "        img_hsv = img.convert(\"HSV\")\n",
    "        \n",
    "        return img_hsv\n",
    "\n",
    "val_transform = transforms.Compose([\n",
    "    transforms.Resize((128, 128)),\n",
    "    RGBToHSV(),\n",
    "    transforms.ToTensor()\n",
    "])\n",
    "\n",
    "prediction = loaded_model(\n",
    "    img=img,\n",
    "    transform=val_transform,\n",
    "    prob=True\n",
    ").cpu().numpy()\n",
    "\n",
    "IDX_TO_CLASS2 = {\n",
    "    0: 'drowning',\n",
    "    1: 'swimming',\n",
    "    2: 'treadwater'\n",
    "}\n",
    "\n",
    "print(prediction)\n",
    "print(IDX_TO_CLASS2[np.argmax(prediction)])\n",
    "\n",
    "loaded_model_results = loaded_model.validate(\n",
    "    data_path=os.getenv('ROI_DATA_DIR'),\n",
    "    transform=val_transform,\n",
    "    val_test_ratio=0.5\n",
    ")"
   ]
  }
 ],
 "metadata": {
  "kernelspec": {
   "display_name": ".venv",
   "language": "python",
   "name": "python3"
  },
  "language_info": {
   "codemirror_mode": {
    "name": "ipython",
    "version": 3
   },
   "file_extension": ".py",
   "mimetype": "text/x-python",
   "name": "python",
   "nbconvert_exporter": "python",
   "pygments_lexer": "ipython3",
   "version": "3.11.8"
  }
 },
 "nbformat": 4,
 "nbformat_minor": 5
}
