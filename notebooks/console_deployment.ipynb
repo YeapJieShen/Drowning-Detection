{
 "cells": [
  {
   "cell_type": "markdown",
   "id": "7f9a2255",
   "metadata": {},
   "source": [
    "# Console Deployment\n",
    "\n",
    "This notebook showcases how the **Drowning Detection System** is applied directly within the notebook for:\n",
    "\n",
    "- **Video File Inference**  \n",
    "  We run inference on pre-recorded swimming pool footage to detect and classify human behaviors such as *swimming*, *treading water*, and *drowning*.\n",
    "\n",
    "- **Live Webcam Streaming**  \n",
    "  The system captures frames from a live webcam feed, overlays predictions (with timestamp), and streams the output back in real time. This emulates real-world deployment for poolside surveillance or lifeguard assist systems."
   ]
  },
  {
   "cell_type": "code",
   "execution_count": 1,
   "id": "33dbf99b",
   "metadata": {},
   "outputs": [
    {
     "data": {
      "text/markdown": [
       "\n",
       "**Last Updated**: 2025-04-17 04:19:46\n",
       "\n",
       "**Python Version**: 3.11.11  \n",
       "**OS**: Windows 10.0.26100  \n",
       "**Architecture**: 64bit  \n",
       "**Hostname**: ShenLaptop  \n",
       "**Processor**: Intel64 Family 6 Model 186 Stepping 3, GenuineIntel  \n",
       "**RAM Size**: 15.65 GB  \n",
       "  \n",
       "        "
      ],
      "text/plain": [
       "<IPython.core.display.Markdown object>"
      ]
     },
     "metadata": {},
     "output_type": "display_data"
    }
   ],
   "source": [
    "from dotenv import load_dotenv\n",
    "\n",
    "load_dotenv()\n",
    "\n",
    "import sys\n",
    "import os\n",
    "\n",
    "sys.path.append(os.getenv('SRC_DIR'))\n",
    "\n",
    "from utils.system import display_system_info\n",
    "\n",
    "display_system_info(markdown=True)"
   ]
  },
  {
   "cell_type": "code",
   "execution_count": null,
   "id": "24412047",
   "metadata": {},
   "outputs": [],
   "source": []
  }
 ],
 "metadata": {
  "kernelspec": {
   "display_name": ".venv",
   "language": "python",
   "name": "python3"
  },
  "language_info": {
   "codemirror_mode": {
    "name": "ipython",
    "version": 3
   },
   "file_extension": ".py",
   "mimetype": "text/x-python",
   "name": "python",
   "nbconvert_exporter": "python",
   "pygments_lexer": "ipython3",
   "version": "3.11.11"
  }
 },
 "nbformat": 4,
 "nbformat_minor": 5
}
