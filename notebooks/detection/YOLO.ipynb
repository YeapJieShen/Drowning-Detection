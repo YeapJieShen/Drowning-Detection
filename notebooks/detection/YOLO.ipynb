{
 "cells": [
  {
   "cell_type": "markdown",
   "id": "2091a5ab",
   "metadata": {},
   "source": [
    "# Detection with YOLO\n",
    "\n",
    "In this section, we will begin exploring our detection pipeline using **YOLOv11** as the primary object detector.\n",
    "\n",
    "1. Relabelling the drowning detection dataset for human detection task\n",
    "2. A series of **visualizations** to understand how YOLO processes each image — including bounding box predictions, confidence scores, and the role of preprocessing.\n",
    "3. Experimentation with **hyperparameter tuning** to adjust settings like learning rate, batch size, and optimizer behavior.\n",
    "4. **Fine-tuning** the YOLO model on the drowning detection dataset to improve accuracy in real-world aquatic scenarios.\n",
    "\n",
    "This serves as the foundation before integrating it with a secondary classifier for behavior prediction (e.g., swimming, treading water, drowning).\n"
   ]
  },
  {
   "cell_type": "code",
   "execution_count": 1,
   "id": "0b593d51",
   "metadata": {},
   "outputs": [
    {
     "data": {
      "text/markdown": [
       "\n",
       "**Last Updated**: 2025-04-19 00:57:24\n",
       "\n",
       "**Python Version**: 3.11.11  \n",
       "**OS**: Windows 10.0.26100  \n",
       "**Architecture**: 64bit  \n",
       "**Hostname**: ShenLaptop  \n",
       "**Processor**: Intel64 Family 6 Model 186 Stepping 3, GenuineIntel  \n",
       "**RAM Size**: 15.65 GB  \n",
       "  \n",
       "        "
      ],
      "text/plain": [
       "<IPython.core.display.Markdown object>"
      ]
     },
     "metadata": {},
     "output_type": "display_data"
    }
   ],
   "source": [
    "from dotenv import load_dotenv\n",
    "\n",
    "load_dotenv()\n",
    "\n",
    "import sys\n",
    "import os\n",
    "\n",
    "sys.path.append(os.getenv('SRC_DIR'))\n",
    "\n",
    "from utils.system import display_system_info\n",
    "\n",
    "display_system_info(markdown=True)"
   ]
  }
 ],
 "metadata": {
  "kernelspec": {
   "display_name": ".venv",
   "language": "python",
   "name": "python3"
  },
  "language_info": {
   "codemirror_mode": {
    "name": "ipython",
    "version": 3
   },
   "file_extension": ".py",
   "mimetype": "text/x-python",
   "name": "python",
   "nbconvert_exporter": "python",
   "pygments_lexer": "ipython3",
   "version": "3.11.11"
  }
 },
 "nbformat": 4,
 "nbformat_minor": 5
}
