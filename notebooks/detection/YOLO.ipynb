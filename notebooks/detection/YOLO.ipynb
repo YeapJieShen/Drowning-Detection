{
 "cells": [
  {
   "cell_type": "markdown",
   "id": "2091a5ab",
   "metadata": {},
   "source": [
    "# Detection with YOLO\n",
    "\n",
    "In this section, we will begin exploring our detection pipeline using **YOLOv11** as the primary object detector.\n",
    "\n",
    "1. Relabelling the drowning detection dataset for human detection task\n",
    "2. A series of **visualizations** to understand how YOLO processes each image — including bounding box predictions, confidence scores, and the role of preprocessing.\n",
    "3. Experimentation with **hyperparameter tuning** to adjust settings like learning rate, batch size, and optimizer behavior.\n",
    "4. **Fine-tuning** the YOLO model on the drowning detection dataset to improve accuracy in real-world aquatic scenarios.\n",
    "\n",
    "This serves as the foundation before integrating it with a secondary classifier for behavior prediction (e.g., swimming, treading water, drowning).\n"
   ]
  },
  {
   "cell_type": "code",
   "execution_count": 1,
   "id": "0b593d51",
   "metadata": {},
   "outputs": [
    {
     "data": {
      "text/markdown": [
       "\n",
       "**Last Updated**: 2025-04-19 13:55:23\n",
       "\n",
       "**Python Version**: 3.11.11  \n",
       "**OS**: Windows 10.0.26100  \n",
       "**Architecture**: 64bit  \n",
       "**Hostname**: ShenLaptop  \n",
       "**Processor**: Intel64 Family 6 Model 186 Stepping 3, GenuineIntel  \n",
       "**RAM Size**: 15.65 GB  \n",
       "  \n",
       "        "
      ],
      "text/plain": [
       "<IPython.core.display.Markdown object>"
      ]
     },
     "metadata": {},
     "output_type": "display_data"
    }
   ],
   "source": [
    "from dotenv import load_dotenv\n",
    "\n",
    "load_dotenv()\n",
    "\n",
    "import sys\n",
    "import os\n",
    "\n",
    "sys.path.append(os.getenv('SRC_DIR'))\n",
    "\n",
    "from utils.system import display_system_info\n",
    "\n",
    "display_system_info(markdown=True)"
   ]
  },
  {
   "cell_type": "code",
   "execution_count": 2,
   "id": "aa347ed0",
   "metadata": {},
   "outputs": [],
   "source": [
    "from ultralytics import YOLO\n",
    "import shutil"
   ]
  },
  {
   "cell_type": "markdown",
   "id": "20698936",
   "metadata": {},
   "source": [
    "## Relabelling for YOLO Training"
   ]
  },
  {
   "cell_type": "code",
   "execution_count": 3,
   "id": "f8e3ef87",
   "metadata": {},
   "outputs": [],
   "source": [
    "yolo_training_data_dir = os.getenv('YOLO_TRAINING_DATA_DIR')\n",
    "raw_data_dir = os.getenv('RAW_DATA_DIR')\n",
    "img_dir = os.getenv('IMG_DIR')\n",
    "label_dir = os.getenv('LABEL_DIR')\n",
    "train_dir = os.getenv('TRAIN_DIR')\n",
    "val_dir = os.getenv('VAL_DIR')\n",
    "yolo_config_dir = os.getenv('YOLO_CONFIG_DIR')"
   ]
  },
  {
   "cell_type": "code",
   "execution_count": null,
   "id": "f121da67",
   "metadata": {},
   "outputs": [],
   "source": [
    "for split in [train_dir, val_dir]:\n",
    "    img_src_dir = os.path.join(raw_data_dir, img_dir, split)\n",
    "    label_src_dir = os.path.join(raw_data_dir, label_dir, split)\n",
    "\n",
    "    img_dst_dir = os.path.join(yolo_training_data_dir, img_dir, split)\n",
    "    label_dst_dir = os.path.join(yolo_training_data_dir, label_dir, split)\n",
    "\n",
    "    os.makedirs(img_dst_dir, exist_ok=True)\n",
    "    os.makedirs(label_dst_dir, exist_ok=True)\n",
    "\n",
    "    for filename in os.listdir(img_src_dir):\n",
    "        if filename.endswith(('.jpg', )):\n",
    "            shutil.copy2(os.path.join(img_src_dir, filename), os.path.join(img_dst_dir, filename))\n",
    "\n",
    "            label_filename = os.path.splitext(filename)[0] + '.txt'\n",
    "            label_src_path = os.path.join(label_src_dir, label_filename)\n",
    "            label_dst_path = os.path.join(label_dst_dir, label_filename)\n",
    "\n",
    "            if os.path.exists(label_src_path):\n",
    "                with open(label_src_path, 'r') as f:\n",
    "                    lines = f.readlines()\n",
    "                new_lines = []\n",
    "                for line in lines:\n",
    "                    parts = line.strip().split()\n",
    "                    if len(parts) >= 5:\n",
    "                        parts[0] = '0'  # change class ID to 0\n",
    "                        new_lines.append(' '.join(parts))\n",
    "                with open(label_dst_path, 'w') as f:\n",
    "                    f.writelines(line + '\\n' for line in new_lines)\n",
    "            else:\n",
    "                # If no label exists, create an empty label file (optional)\n",
    "                open(label_dst_path, 'w').close()"
   ]
  },
  {
   "cell_type": "markdown",
   "id": "a0c1a908",
   "metadata": {},
   "source": [
    "## YOLO Fine-Tuning"
   ]
  },
  {
   "cell_type": "code",
   "execution_count": null,
   "id": "5f391907",
   "metadata": {},
   "outputs": [],
   "source": [
    "yaml_content = (\n",
    "f\"\"\"# Dataset paths\n",
    "path: {yolo_training_data_dir}\n",
    "train: {os.path.join(img_dir, train_dir)}\n",
    "val: {os.path.join(img_dir, val_dir)}\n",
    "\n",
    "# Classes\n",
    "nc: 1\n",
    "names: ['person']\n",
    "\"\"\")\n",
    "\n",
    "yaml_path = os.path.join(yolo_config_dir, \"fine_tuning.yaml\")\n",
    "with open(yaml_path, \"w\") as f:\n",
    "    f.write(yaml_content)\n",
    "print(f\"Created data configuration at {yaml_path}\")"
   ]
  },
  {
   "cell_type": "code",
   "execution_count": null,
   "id": "a99115e8",
   "metadata": {},
   "outputs": [],
   "source": [
    "import torch\n",
    "\n",
    "model = YOLO(os.path.join(os.getenv('YOLO_DIR'), 'yolo11n.pt'))\n",
    "\n",
    "results = model.train(\n",
    "    data=yaml_path,\n",
    "    epochs=50,\n",
    "    patience=10,\n",
    "    batch=16,\n",
    "    imgsz=640,\n",
    "    save=True,\n",
    "    save_period=1,\n",
    "    cache=False,\n",
    "    device=0 if torch.cuda.is_available() else 'cpu',\n",
    "    workers=12,\n",
    "    project=os.getenv('YOLO_DIR'),\n",
    "    name='yolo11n-finetuned',\n",
    "    exist_ok=True,\n",
    "    optimizer='auto',\n",
    "    seed=32,\n",
    "    deterministic=False,\n",
    "    single_cls=False,\n",
    "    resume=False,\n",
    "    fraction=1,\n",
    "    dropout=0,\n",
    "    val=True,\n",
    "    plots=True,\n",
    "    degrees=10,\n",
    "    mosaic=1\n",
    ")"
   ]
  }
 ],
 "metadata": {
  "kernelspec": {
   "display_name": ".venv",
   "language": "python",
   "name": "python3"
  },
  "language_info": {
   "codemirror_mode": {
    "name": "ipython",
    "version": 3
   },
   "file_extension": ".py",
   "mimetype": "text/x-python",
   "name": "python",
   "nbconvert_exporter": "python",
   "pygments_lexer": "ipython3",
   "version": "3.11.11"
  }
 },
 "nbformat": 4,
 "nbformat_minor": 5
}
