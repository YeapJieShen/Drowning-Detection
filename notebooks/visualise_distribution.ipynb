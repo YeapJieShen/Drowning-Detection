{
 "cells": [
  {
   "cell_type": "code",
   "execution_count": 2,
   "metadata": {},
   "outputs": [
    {
     "ename": "MemoryError",
     "evalue": "",
     "output_type": "error",
     "traceback": [
      "\u001b[1;31m---------------------------------------------------------------------------\u001b[0m",
      "\u001b[1;31mMemoryError\u001b[0m                               Traceback (most recent call last)",
      "Cell \u001b[1;32mIn[2], line 19\u001b[0m\n\u001b[0;32m     16\u001b[0m img \u001b[38;5;241m=\u001b[39m Image\u001b[38;5;241m.\u001b[39mopen(os\u001b[38;5;241m.\u001b[39mpath\u001b[38;5;241m.\u001b[39mjoin(image_folder, filename))\u001b[38;5;241m.\u001b[39mconvert(\u001b[38;5;124m\"\u001b[39m\u001b[38;5;124mHSV\u001b[39m\u001b[38;5;124m\"\u001b[39m)\n\u001b[0;32m     17\u001b[0m hsv \u001b[38;5;241m=\u001b[39m np\u001b[38;5;241m.\u001b[39marray(img)\n\u001b[1;32m---> 19\u001b[0m all_hues\u001b[38;5;241m.\u001b[39mextend(hsv[:, :, \u001b[38;5;241m0\u001b[39m]\u001b[38;5;241m.\u001b[39mflatten())\n\u001b[0;32m     20\u001b[0m all_sats\u001b[38;5;241m.\u001b[39mextend(hsv[:, :, \u001b[38;5;241m1\u001b[39m]\u001b[38;5;241m.\u001b[39mflatten())\n\u001b[0;32m     21\u001b[0m all_vals\u001b[38;5;241m.\u001b[39mextend(hsv[:, :, \u001b[38;5;241m2\u001b[39m]\u001b[38;5;241m.\u001b[39mflatten())\n",
      "\u001b[1;31mMemoryError\u001b[0m: "
     ]
    }
   ],
   "source": [
    "import os\n",
    "from PIL import Image\n",
    "import numpy as np\n",
    "import matplotlib.pyplot as plt\n",
    "from torchvision import datasets\n",
    "\n",
    "# Path to your image folder\n",
    "image_folder = r\"C:\\Users\\hp\\OneDrive\\Documents\\Degree\\BMCS2133 Image Processing\\Drowning-Detection\\data\\images\\train\"\n",
    "\n",
    "# Initialize lists to collect all channel values\n",
    "all_hues, all_sats, all_vals = [], [], []\n",
    "\n",
    "# Loop through all images in folder\n",
    "for filename in os.listdir(image_folder):\n",
    "    if filename.endswith('.jpg'):\n",
    "        img = Image.open(os.path.join(image_folder, filename)).convert(\"HSV\")\n",
    "        hsv = np.array(img)\n",
    "        \n",
    "        all_hues.extend(hsv[:, :, 0].flatten())\n",
    "        all_sats.extend(hsv[:, :, 1].flatten())\n",
    "        all_vals.extend(hsv[:, :, 2].flatten())\n",
    "\n",
    "# Convert to numpy arrays\n",
    "all_hues = np.array(all_hues)\n",
    "all_sats = np.array(all_sats)\n",
    "all_vals = np.array(all_vals)\n",
    "\n",
    "# Plot\n",
    "plt.figure(figsize=(15, 4))\n",
    "\n",
    "plt.subplot(1, 3, 1)\n",
    "plt.hist(all_hues, bins=180, color='red')\n",
    "plt.title('Accumulated Hue Distribution')\n",
    "plt.xlabel('Hue')\n",
    "\n",
    "plt.subplot(1, 3, 2)\n",
    "plt.hist(all_sats, bins=256, color='green')\n",
    "plt.title('Accumulated Saturation Distribution')\n",
    "plt.xlabel('Saturation')\n",
    "\n",
    "plt.subplot(1, 3, 3)\n",
    "plt.hist(all_vals, bins=256, color='blue')\n",
    "plt.title('Accumulated Value Distribution')\n",
    "plt.xlabel('Value')\n",
    "\n",
    "plt.tight_layout()\n",
    "plt.show()"
   ]
  }
 ],
 "metadata": {
  "kernelspec": {
   "display_name": ".venv",
   "language": "python",
   "name": "python3"
  },
  "language_info": {
   "codemirror_mode": {
    "name": "ipython",
    "version": 3
   },
   "file_extension": ".py",
   "mimetype": "text/x-python",
   "name": "python",
   "nbconvert_exporter": "python",
   "pygments_lexer": "ipython3",
   "version": "3.11.8"
  }
 },
 "nbformat": 4,
 "nbformat_minor": 2
}
